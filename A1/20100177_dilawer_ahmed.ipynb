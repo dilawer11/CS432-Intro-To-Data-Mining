{
 "cells": [
  {
   "cell_type": "markdown",
   "metadata": {},
   "source": [
    "<h1><center>Assignment No 1</center></h1>\n",
    "<h1><center>Data Understanding and Exploratory Data Analysis</center></h1>\n"
   ]
  },
  {
   "cell_type": "markdown",
   "metadata": {},
   "source": [
    "# Guidelines\n",
    "1. Rename jupyter notebook as **rollnumber_firstname_lastname**.\n",
    "1. You are only allowed to use pandas, numpy and seaborn libraries.\n",
    "1. You are supposed to answer the question here on Jupyter notebook. Use markdown cells to answer the questions while use \"Code\" cells to write the code. You can double click on any markdown cell to edit it and press **shift+enter** to execute any cell.\n",
    "1. Once finished, go to File menu and download the notebook as .html\n",
    "1. Make sure all required figures and tables are visible in the HTML file.\n",
    "1. Submit this HTML file. Note that it must follow the naming convention mentioned above."
   ]
  },
  {
   "cell_type": "markdown",
   "metadata": {},
   "source": [
    "# Import Libraries"
   ]
  },
  {
   "cell_type": "code",
   "execution_count": 1,
   "metadata": {},
   "outputs": [],
   "source": [
    "# Do not modify this cell\n",
    "\n",
    "import pandas as pd\n",
    "import numpy as np\n",
    "import seaborn as sns"
   ]
  },
  {
   "cell_type": "markdown",
   "metadata": {},
   "source": [
    "# Import Data"
   ]
  },
  {
   "cell_type": "code",
   "execution_count": 2,
   "metadata": {},
   "outputs": [],
   "source": [
    "# do not modify this cell\n",
    "\n",
    "train_data = pd.read_csv('data/anneal.data', header=None,  \n",
    "                         names = ['shape','thick','width','length','oil', 'bore', 'packing', 'classes'], \n",
    "                         sep= '\\t')"
   ]
  },
  {
   "cell_type": "code",
   "execution_count": 3,
   "metadata": {},
   "outputs": [
    {
     "data": {
      "text/html": "<div>\n<style scoped>\n    .dataframe tbody tr th:only-of-type {\n        vertical-align: middle;\n    }\n\n    .dataframe tbody tr th {\n        vertical-align: top;\n    }\n\n    .dataframe thead th {\n        text-align: right;\n    }\n</style>\n<table border=\"1\" class=\"dataframe\">\n  <thead>\n    <tr style=\"text-align: right;\">\n      <th></th>\n      <th>shape</th>\n      <th>thick</th>\n      <th>width</th>\n      <th>length</th>\n      <th>oil</th>\n      <th>bore</th>\n      <th>packing</th>\n      <th>classes</th>\n    </tr>\n  </thead>\n  <tbody>\n    <tr>\n      <th>0</th>\n      <td>COIL</td>\n      <td>0.700</td>\n      <td>610.0</td>\n      <td>0</td>\n      <td>NaN</td>\n      <td>0</td>\n      <td>NaN</td>\n      <td>3</td>\n    </tr>\n    <tr>\n      <th>1</th>\n      <td>COIL</td>\n      <td>3.200</td>\n      <td>610.0</td>\n      <td>0</td>\n      <td>NaN</td>\n      <td>0</td>\n      <td>NaN</td>\n      <td>3</td>\n    </tr>\n    <tr>\n      <th>2</th>\n      <td>SHEET</td>\n      <td>0.700</td>\n      <td>1300.0</td>\n      <td>762</td>\n      <td>NaN</td>\n      <td>0</td>\n      <td>NaN</td>\n      <td>3</td>\n    </tr>\n    <tr>\n      <th>3</th>\n      <td>COIL</td>\n      <td>2.801</td>\n      <td>385.1</td>\n      <td>0</td>\n      <td>NaN</td>\n      <td>0</td>\n      <td>NaN</td>\n      <td>3</td>\n    </tr>\n    <tr>\n      <th>4</th>\n      <td>SHEET</td>\n      <td>0.801</td>\n      <td>255.0</td>\n      <td>269</td>\n      <td>NaN</td>\n      <td>0</td>\n      <td>NaN</td>\n      <td>3</td>\n    </tr>\n    <tr>\n      <th>5</th>\n      <td>COIL</td>\n      <td>1.600</td>\n      <td>610.0</td>\n      <td>0</td>\n      <td>NaN</td>\n      <td>0</td>\n      <td>NaN</td>\n      <td>3</td>\n    </tr>\n    <tr>\n      <th>6</th>\n      <td>SHEET</td>\n      <td>0.699</td>\n      <td>610.0</td>\n      <td>4880</td>\n      <td>Y</td>\n      <td>0</td>\n      <td>NaN</td>\n      <td>3</td>\n    </tr>\n    <tr>\n      <th>7</th>\n      <td>COIL</td>\n      <td>3.300</td>\n      <td>152.0</td>\n      <td>0</td>\n      <td>NaN</td>\n      <td>0</td>\n      <td>NaN</td>\n      <td>3</td>\n    </tr>\n    <tr>\n      <th>8</th>\n      <td>COIL</td>\n      <td>0.699</td>\n      <td>1320.0</td>\n      <td>0</td>\n      <td>NaN</td>\n      <td>0</td>\n      <td>NaN</td>\n      <td>3</td>\n    </tr>\n    <tr>\n      <th>9</th>\n      <td>SHEET</td>\n      <td>1.000</td>\n      <td>1320.0</td>\n      <td>762</td>\n      <td>NaN</td>\n      <td>0</td>\n      <td>NaN</td>\n      <td>3</td>\n    </tr>\n  </tbody>\n</table>\n</div>",
      "text/plain": "   shape  thick   width  length  oil  bore  packing classes\n0   COIL  0.700   610.0       0  NaN     0      NaN       3\n1   COIL  3.200   610.0       0  NaN     0      NaN       3\n2  SHEET  0.700  1300.0     762  NaN     0      NaN       3\n3   COIL  2.801   385.1       0  NaN     0      NaN       3\n4  SHEET  0.801   255.0     269  NaN     0      NaN       3\n5   COIL  1.600   610.0       0  NaN     0      NaN       3\n6  SHEET  0.699   610.0    4880    Y     0      NaN       3\n7   COIL  3.300   152.0       0  NaN     0      NaN       3\n8   COIL  0.699  1320.0       0  NaN     0      NaN       3\n9  SHEET  1.000  1320.0     762  NaN     0      NaN       3"
     },
     "execution_count": 3,
     "metadata": {},
     "output_type": "execute_result"
    }
   ],
   "source": [
    "train_data_backup = train_data\n",
    "train_data.head(10)"
   ]
  },
  {
   "cell_type": "markdown",
   "metadata": {},
   "source": [
    "# Part 1: Filling missing (NaN) values. (8 questions, 5 marks each)\n",
    "**We have loaded a dataset for you and it's first 10 rows are printed. All below experiments are to be performed on the variable \"train_data\".**\n",
    "\n",
    "1. Identify and enlist numerical and categorical attributes.\n",
    "1. Print summary statistics of the numerical attributes of the data (mean, std, min, 25%, 50%, 75%, max, counts).\n",
    "1. Write a code below that prints total number of records and total number of attributes of this data.\n",
    "1. Fill the missing values with using next valid observation. For example, for **oil** column, first 6 rows would be filled with value **Y**. This is known as \"backward fill\". \n",
    "1. What problems would arise if you use \"forward fill\" instead?\n",
    "1. Print summary statistics again and comment on the difference (before and after filling missing values)."
   ]
  },
  {
   "cell_type": "markdown",
   "metadata": {},
   "source": [
    "**Enlist numerical and categorical attributes.**\n",
    "\n",
    "> Numerical Attributes :\n",
    "    thick\n",
    "    width\n",
    "    length\n",
    "    bore\n",
    "    packing\n",
    "    \n",
    "> Categorical Attributes:\n",
    "    shape\n",
    "    oil\n",
    "    classes\n",
    "\n",
    "\n",
    "    \n"
   ]
  },
  {
   "cell_type": "code",
   "execution_count": 4,
   "metadata": {},
   "outputs": [
    {
     "data": {
      "text/html": "<div>\n<style scoped>\n    .dataframe tbody tr th:only-of-type {\n        vertical-align: middle;\n    }\n\n    .dataframe tbody tr th {\n        vertical-align: top;\n    }\n\n    .dataframe thead th {\n        text-align: right;\n    }\n</style>\n<table border=\"1\" class=\"dataframe\">\n  <thead>\n    <tr style=\"text-align: right;\">\n      <th></th>\n      <th>thick</th>\n      <th>width</th>\n      <th>length</th>\n      <th>bore</th>\n      <th>packing</th>\n    </tr>\n  </thead>\n  <tbody>\n    <tr>\n      <th>count</th>\n      <td>798.000000</td>\n      <td>798.000000</td>\n      <td>798.000000</td>\n      <td>798.000000</td>\n      <td>9.000000</td>\n    </tr>\n    <tr>\n      <th>mean</th>\n      <td>1.181847</td>\n      <td>781.744361</td>\n      <td>1273.037594</td>\n      <td>28.195489</td>\n      <td>2.888889</td>\n    </tr>\n    <tr>\n      <th>std</th>\n      <td>0.861608</td>\n      <td>404.722346</td>\n      <td>1886.768139</td>\n      <td>124.811534</td>\n      <td>0.333333</td>\n    </tr>\n    <tr>\n      <th>min</th>\n      <td>0.250000</td>\n      <td>0.000000</td>\n      <td>0.000000</td>\n      <td>0.000000</td>\n      <td>2.000000</td>\n    </tr>\n    <tr>\n      <th>25%</th>\n      <td>0.601000</td>\n      <td>609.900000</td>\n      <td>0.000000</td>\n      <td>0.000000</td>\n      <td>3.000000</td>\n    </tr>\n    <tr>\n      <th>50%</th>\n      <td>0.800000</td>\n      <td>610.000000</td>\n      <td>611.000000</td>\n      <td>0.000000</td>\n      <td>3.000000</td>\n    </tr>\n    <tr>\n      <th>75%</th>\n      <td>1.600000</td>\n      <td>1250.000000</td>\n      <td>762.000000</td>\n      <td>0.000000</td>\n      <td>3.000000</td>\n    </tr>\n    <tr>\n      <th>max</th>\n      <td>4.000000</td>\n      <td>1525.000000</td>\n      <td>4880.000000</td>\n      <td>600.000000</td>\n      <td>3.000000</td>\n    </tr>\n  </tbody>\n</table>\n</div>",
      "text/plain": "            thick        width       length        bore   packing\ncount  798.000000   798.000000   798.000000  798.000000  9.000000\nmean     1.181847   781.744361  1273.037594   28.195489  2.888889\nstd      0.861608   404.722346  1886.768139  124.811534  0.333333\nmin      0.250000     0.000000     0.000000    0.000000  2.000000\n25%      0.601000   609.900000     0.000000    0.000000  3.000000\n50%      0.800000   610.000000   611.000000    0.000000  3.000000\n75%      1.600000  1250.000000   762.000000    0.000000  3.000000\nmax      4.000000  1525.000000  4880.000000  600.000000  3.000000"
     },
     "execution_count": 4,
     "metadata": {},
     "output_type": "execute_result"
    }
   ],
   "source": [
    "# Print Summary statistics of numerical attribtues\n",
    "train_data.describe()"
   ]
  },
  {
   "cell_type": "code",
   "execution_count": 5,
   "metadata": {},
   "outputs": [
    {
     "name": "stdout",
     "output_type": "stream",
     "text": "Attibutes: 8\nRows: 798\n"
    }
   ],
   "source": [
    "# Show number of records and number of attributes of the data above\n",
    "print('Attibutes:', train_data.shape[1])\n",
    "print('Rows:', train_data.shape[0])"
   ]
  },
  {
   "cell_type": "code",
   "execution_count": 6,
   "metadata": {},
   "outputs": [],
   "source": [
    "# Write code to perform backward fill for all columns. Show first 10 rows.\n",
    "train_data = train_data.fillna(method=\"bfill\", axis=0)"
   ]
  },
  {
   "cell_type": "code",
   "execution_count": 7,
   "metadata": {},
   "outputs": [
    {
     "name": "stdout",
     "output_type": "stream",
     "text": "shape       0\nthick       0\nwidth       0\nlength      0\noil         6\nbore        0\npacking    87\nclasses     0\ndtype: int64\nshape       0\nthick       0\nwidth       0\nlength      0\noil         4\nbore        0\npacking    29\nclasses     0\ndtype: int64\n"
    }
   ],
   "source": [
    "print(train_data_backup.fillna(method=\"ffill\", axis=0).isna().sum())\n",
    "print(train_data.isna().sum())"
   ]
  },
  {
   "cell_type": "markdown",
   "execution_count": null,
   "metadata": {},
   "outputs": [],
   "source": [
    "# Convert this to a \"Markdown\" cell and answer the question 5.\n",
    "\n",
    "As we can see from the data above that forward filling leaves more NaN values in this dataset compared to backfill so backfill is better.\n"
   ]
  },
  {
   "cell_type": "code",
   "execution_count": 8,
   "metadata": {},
   "outputs": [
    {
     "data": {
      "text/html": "<div>\n<style scoped>\n    .dataframe tbody tr th:only-of-type {\n        vertical-align: middle;\n    }\n\n    .dataframe tbody tr th {\n        vertical-align: top;\n    }\n\n    .dataframe thead th {\n        text-align: right;\n    }\n</style>\n<table border=\"1\" class=\"dataframe\">\n  <thead>\n    <tr style=\"text-align: right;\">\n      <th></th>\n      <th>thick</th>\n      <th>width</th>\n      <th>length</th>\n      <th>bore</th>\n      <th>packing</th>\n    </tr>\n  </thead>\n  <tbody>\n    <tr>\n      <th>count</th>\n      <td>798.000000</td>\n      <td>798.000000</td>\n      <td>798.000000</td>\n      <td>798.000000</td>\n      <td>769.000000</td>\n    </tr>\n    <tr>\n      <th>mean</th>\n      <td>1.181847</td>\n      <td>781.744361</td>\n      <td>1273.037594</td>\n      <td>28.195489</td>\n      <td>2.892068</td>\n    </tr>\n    <tr>\n      <th>std</th>\n      <td>0.861608</td>\n      <td>404.722346</td>\n      <td>1886.768139</td>\n      <td>124.811534</td>\n      <td>0.310497</td>\n    </tr>\n    <tr>\n      <th>min</th>\n      <td>0.250000</td>\n      <td>0.000000</td>\n      <td>0.000000</td>\n      <td>0.000000</td>\n      <td>2.000000</td>\n    </tr>\n    <tr>\n      <th>25%</th>\n      <td>0.601000</td>\n      <td>609.900000</td>\n      <td>0.000000</td>\n      <td>0.000000</td>\n      <td>3.000000</td>\n    </tr>\n    <tr>\n      <th>50%</th>\n      <td>0.800000</td>\n      <td>610.000000</td>\n      <td>611.000000</td>\n      <td>0.000000</td>\n      <td>3.000000</td>\n    </tr>\n    <tr>\n      <th>75%</th>\n      <td>1.600000</td>\n      <td>1250.000000</td>\n      <td>762.000000</td>\n      <td>0.000000</td>\n      <td>3.000000</td>\n    </tr>\n    <tr>\n      <th>max</th>\n      <td>4.000000</td>\n      <td>1525.000000</td>\n      <td>4880.000000</td>\n      <td>600.000000</td>\n      <td>3.000000</td>\n    </tr>\n  </tbody>\n</table>\n</div>",
      "text/plain": "            thick        width       length        bore     packing\ncount  798.000000   798.000000   798.000000  798.000000  769.000000\nmean     1.181847   781.744361  1273.037594   28.195489    2.892068\nstd      0.861608   404.722346  1886.768139  124.811534    0.310497\nmin      0.250000     0.000000     0.000000    0.000000    2.000000\n25%      0.601000   609.900000     0.000000    0.000000    3.000000\n50%      0.800000   610.000000   611.000000    0.000000    3.000000\n75%      1.600000  1250.000000   762.000000    0.000000    3.000000\nmax      4.000000  1525.000000  4880.000000  600.000000    3.000000"
     },
     "execution_count": 8,
     "metadata": {},
     "output_type": "execute_result"
    }
   ],
   "source": [
    "# Print summary statistics after filling missing values\n",
    "\n",
    "train_data.describe()"
   ]
  },
  {
   "cell_type": "markdown",
   "metadata": {},
   "source": [
    "7. Now use **train_data_backup** and fill missing values by taking mode of each column. Print summary statistics of numerical attributes and comment of the difference (between backward fill and mode fill).\n",
    "8. Which method of filling missing values is desirable for this particular data and why?"
   ]
  },
  {
   "cell_type": "code",
   "execution_count": 9,
   "metadata": {},
   "outputs": [
    {
     "data": {
      "text/html": "<div>\n<style scoped>\n    .dataframe tbody tr th:only-of-type {\n        vertical-align: middle;\n    }\n\n    .dataframe tbody tr th {\n        vertical-align: top;\n    }\n\n    .dataframe thead th {\n        text-align: right;\n    }\n</style>\n<table border=\"1\" class=\"dataframe\">\n  <thead>\n    <tr style=\"text-align: right;\">\n      <th></th>\n      <th>thick</th>\n      <th>width</th>\n      <th>length</th>\n      <th>bore</th>\n      <th>packing</th>\n    </tr>\n  </thead>\n  <tbody>\n    <tr>\n      <th>count</th>\n      <td>798.000000</td>\n      <td>798.000000</td>\n      <td>798.000000</td>\n      <td>798.000000</td>\n      <td>798.000000</td>\n    </tr>\n    <tr>\n      <th>mean</th>\n      <td>1.181847</td>\n      <td>781.744361</td>\n      <td>1273.037594</td>\n      <td>28.195489</td>\n      <td>2.998747</td>\n    </tr>\n    <tr>\n      <th>std</th>\n      <td>0.861608</td>\n      <td>404.722346</td>\n      <td>1886.768139</td>\n      <td>124.811534</td>\n      <td>0.035400</td>\n    </tr>\n    <tr>\n      <th>min</th>\n      <td>0.250000</td>\n      <td>0.000000</td>\n      <td>0.000000</td>\n      <td>0.000000</td>\n      <td>2.000000</td>\n    </tr>\n    <tr>\n      <th>25%</th>\n      <td>0.601000</td>\n      <td>609.900000</td>\n      <td>0.000000</td>\n      <td>0.000000</td>\n      <td>3.000000</td>\n    </tr>\n    <tr>\n      <th>50%</th>\n      <td>0.800000</td>\n      <td>610.000000</td>\n      <td>611.000000</td>\n      <td>0.000000</td>\n      <td>3.000000</td>\n    </tr>\n    <tr>\n      <th>75%</th>\n      <td>1.600000</td>\n      <td>1250.000000</td>\n      <td>762.000000</td>\n      <td>0.000000</td>\n      <td>3.000000</td>\n    </tr>\n    <tr>\n      <th>max</th>\n      <td>4.000000</td>\n      <td>1525.000000</td>\n      <td>4880.000000</td>\n      <td>600.000000</td>\n      <td>3.000000</td>\n    </tr>\n  </tbody>\n</table>\n</div>",
      "text/plain": "            thick        width       length        bore     packing\ncount  798.000000   798.000000   798.000000  798.000000  798.000000\nmean     1.181847   781.744361  1273.037594   28.195489    2.998747\nstd      0.861608   404.722346  1886.768139  124.811534    0.035400\nmin      0.250000     0.000000     0.000000    0.000000    2.000000\n25%      0.601000   609.900000     0.000000    0.000000    3.000000\n50%      0.800000   610.000000   611.000000    0.000000    3.000000\n75%      1.600000  1250.000000   762.000000    0.000000    3.000000\nmax      4.000000  1525.000000  4880.000000  600.000000    3.000000"
     },
     "execution_count": 9,
     "metadata": {},
     "output_type": "execute_result"
    }
   ],
   "source": [
    "# Fill missing values of train_data_backup and print summary statistics.\n",
    "\n",
    "train_data_backup = train_data_backup.apply(lambda x: x.fillna(x.mode()[0]), axis=0)\n",
    "train_data_backup.describe()"
   ]
  },
  {
   "cell_type": "markdown",
   "execution_count": null,
   "metadata": {},
   "outputs": [],
   "source": [
    "# Comment on which method is better and why.\n",
    "\n",
    "Filling with mode is better because less NaN values are left in some columns like the packing numerical column\n",
    "\n"
   ]
  },
  {
   "cell_type": "markdown",
   "metadata": {},
   "source": [
    "# Part 2: Correlation, Covariance and Heatmaps (4 questions, 5 marks each)\n",
    "**In this data, you are provided gender income data. Your job is to find correlation and covariance between attributes.**"
   ]
  },
  {
   "cell_type": "code",
   "execution_count": 10,
   "metadata": {},
   "outputs": [],
   "source": [
    "gender_data = pd.read_csv(\"data/gender_data.csv\", sep = ',')"
   ]
  },
  {
   "cell_type": "code",
   "execution_count": 11,
   "metadata": {},
   "outputs": [
    {
     "data": {
      "text/html": "<div>\n<style scoped>\n    .dataframe tbody tr th:only-of-type {\n        vertical-align: middle;\n    }\n\n    .dataframe tbody tr th {\n        vertical-align: top;\n    }\n\n    .dataframe thead th {\n        text-align: right;\n    }\n</style>\n<table border=\"1\" class=\"dataframe\">\n  <thead>\n    <tr style=\"text-align: right;\">\n      <th></th>\n      <th>Gender</th>\n      <th>Age</th>\n      <th>Income</th>\n      <th>City</th>\n    </tr>\n  </thead>\n  <tbody>\n    <tr>\n      <th>0</th>\n      <td>F</td>\n      <td>28</td>\n      <td>90000</td>\n      <td>khi</td>\n    </tr>\n    <tr>\n      <th>1</th>\n      <td>F</td>\n      <td>25</td>\n      <td>75000</td>\n      <td>lhr</td>\n    </tr>\n    <tr>\n      <th>2</th>\n      <td>F</td>\n      <td>22</td>\n      <td>50000</td>\n      <td>lhr</td>\n    </tr>\n    <tr>\n      <th>3</th>\n      <td>M</td>\n      <td>27</td>\n      <td>78000</td>\n      <td>lhr</td>\n    </tr>\n    <tr>\n      <th>4</th>\n      <td>M</td>\n      <td>22</td>\n      <td>50000</td>\n      <td>lhr</td>\n    </tr>\n  </tbody>\n</table>\n</div>",
      "text/plain": "  Gender  Age  Income City\n0      F   28   90000  khi\n1      F   25   75000  lhr\n2      F   22   50000  lhr\n3      M   27   78000  lhr\n4      M   22   50000  lhr"
     },
     "execution_count": 11,
     "metadata": {},
     "output_type": "execute_result"
    }
   ],
   "source": [
    "gender_data.head()"
   ]
  },
  {
   "cell_type": "markdown",
   "metadata": {},
   "source": [
    "1. Identify \"Binary Symmetric Attribute\", \"Numerical Continuous Attribute\", \"Numerical Discrete Attribute\" and \"Categorical Discrete Attribute\".\n",
    "1. Write a code to convert all categorical attributes to numerical attributes (you may use dictionary to map the values to integers).\n",
    "1. Write code to calculate correlation matrix and visualize it using a heatmap. Note that if you have sucessfully converted all the attributes to numerical variables, you will get a 4x4 matrix. Comment on the results. In particularly, answer the following.\n",
    " 1. Does the choice of city of employment makes an impact on the earning of a particular gender?\n",
    " 1. Does income variable depends on age variable?\n",
    "1. Write code to calculate covariance matrix and print it. Comment on the results. What does covariance signify with respect to this dataset?\n"
   ]
  },
  {
   "cell_type": "markdown",
   "metadata": {},
   "source": [
    "**Write down the attributes you have identified.**\n",
    "\n",
    "\n"
   ]
  },
  {
   "cell_type": "markdown",
   "execution_count": null,
   "metadata": {},
   "outputs": [],
   "source": [
    "<ul>\n",
    "<li>Binary Symmetric Attribute -> Gender</li>\n",
    "<li>Numerical Continuous Attribute -> Income</li>\n",
    "<li>Numerical Discrete Attribute -> Age</li>\n",
    "<li>Categorical Discrete Attribute -> City</li>\n",
    "</ul>"
   ]
  },
  {
   "cell_type": "code",
   "execution_count": 12,
   "metadata": {},
   "outputs": [
    {
     "name": "stdout",
     "output_type": "stream",
     "text": "Before Conversion: ['F' 'M']\nAfter Conversion: [0 1]\nBefore Conversion: ['khi' 'lhr' 'isb']\nAfter Conversion: [0 1 2]\n"
    }
   ],
   "source": [
    "# Code to convert attributes\n",
    "print('Before Conversion:', gender_data['Gender'].unique())\n",
    "gender_data['Gender'] = gender_data['Gender'].apply(lambda x: 0 if x.strip() == 'F' else 1)\n",
    "print('After Conversion:', gender_data['Gender'].unique())\n",
    "\n",
    "print('Before Conversion:', gender_data['City'].unique())\n",
    "ct = list(gender_data['City'].unique())\n",
    "gender_data['City'] = gender_data['City'].apply(lambda x: ct.index(x))\n",
    "print('After Conversion:', gender_data['City'].unique())"
   ]
  },
  {
   "cell_type": "code",
   "execution_count": 13,
   "metadata": {},
   "outputs": [],
   "source": [
    "# Calculate correlation\n",
    "\n",
    "correlation = gender_data.corr()"
   ]
  },
  {
   "cell_type": "code",
   "execution_count": 14,
   "metadata": {},
   "outputs": [
    {
     "data": {
      "image/png": "[encoded data removed]",
      "image/svg+xml": "<?xml version=\"1.0\" encoding=\"utf-8\" standalone=\"no\"?>\n<!DOCTYPE svg PUBLIC \"-//W3C//DTD SVG 1.1//EN\"\n  \"http://www.w3.org/Graphics/SVG/1.1/DTD/svg11.dtd\">\n<!-- Created with matplotlib (https://matplotlib.org/) -->\n<svg height=\"252.317344pt\" version=\"1.1\" viewBox=\"0 0 349.43325 252.317344\" width=\"349.43325pt\" xmlns=\"http://www.w3.org/2000/svg\" xmlns:xlink=\"http://www.w3.org/1999/xlink\">\n <defs>\n  <style type=\"text/css\">\n*{stroke-linecap:butt;stroke-linejoin:round;}\n  </style>\n </defs>\n <g id=\"figure_1\">\n  <g id=\"patch_1\">\n   <path d=\"M -0 252.317344 \nL 349.43325 252.317344 \nL 349.43325 0 \nL -0 0 \nz\n\" style=\"fill:none;\"/>\n  </g>\n  <g id=\"axes_1\">\n   <g id=\"patch_2\">\n    <path d=\"M 23.878125 228.439219 \nL 291.718125 228.439219 \nL 291.718125 10.999219 \nL 23.878125 10.999219 \nz\n\" style=\"fill:#ffffff;\"/>\n   </g>\n   <g id=\"QuadMesh_1\">\n    <path clip-path=\"url(#pef08c080c9)\" d=\"M 23.878125 10.999219 \nL 90.838125 10.999219 \nL 90.838125 65.359219 \nL 23.878125 65.359219 \nL 23.878125 10.999219 \n\" style=\"fill:#081d58;\"/>\n    <path clip-path=\"url(#pef08c080c9)\" d=\"M 90.838125 10.999219 \nL 157.798125 10.999219 \nL 157.798125 65.359219 \nL 90.838125 65.359219 \nL 90.838125 10.999219 \n\" style=\"fill:#fcfed1;\"/>\n    <path clip-path=\"url(#pef08c080c9)\" d=\"M 157.798125 10.999219 \nL 224.758125 10.999219 \nL 224.758125 65.359219 \nL 157.798125 65.359219 \nL 157.798125 10.999219 \n\" style=\"fill:#fcfed1;\"/>\n    <path clip-path=\"url(#pef08c080c9)\" d=\"M 224.758125 10.999219 \nL 291.718125 10.999219 \nL 291.718125 65.359219 \nL 224.758125 65.359219 \nL 224.758125 10.999219 \n\" style=\"fill:#eaf7b1;\"/>\n    <path clip-path=\"url(#pef08c080c9)\" d=\"M 23.878125 65.359219 \nL 90.838125 65.359219 \nL 90.838125 119.719219 \nL 23.878125 119.719219 \nL 23.878125 65.359219 \n\" style=\"fill:#fcfed1;\"/>\n    <path clip-path=\"url(#pef08c080c9)\" d=\"M 90.838125 65.359219 \nL 157.798125 65.359219 \nL 157.798125 119.719219 \nL 90.838125 119.719219 \nL 90.838125 65.359219 \n\" style=\"fill:#081d58;\"/>\n    <path clip-path=\"url(#pef08c080c9)\" d=\"M 157.798125 65.359219 \nL 224.758125 65.359219 \nL 224.758125 119.719219 \nL 157.798125 119.719219 \nL 157.798125 65.359219 \n\" style=\"fill:#0d2161;\"/>\n    <path clip-path=\"url(#pef08c080c9)\" d=\"M 224.758125 65.359219 \nL 291.718125 65.359219 \nL 291.718125 119.719219 \nL 224.758125 119.719219 \nL 224.758125 65.359219 \n\" style=\"fill:#ffffd9;\"/>\n    <path clip-path=\"url(#pef08c080c9)\" d=\"M 23.878125 119.719219 \nL 90.838125 119.719219 \nL 90.838125 174.079219 \nL 23.878125 174.079219 \nL 23.878125 119.719219 \n\" style=\"fill:#fcfed1;\"/>\n    <path clip-path=\"url(#pef08c080c9)\" d=\"M 90.838125 119.719219 \nL 157.798125 119.719219 \nL 157.798125 174.079219 \nL 90.838125 174.079219 \nL 90.838125 119.719219 \n\" style=\"fill:#0d2161;\"/>\n    <path clip-path=\"url(#pef08c080c9)\" d=\"M 157.798125 119.719219 \nL 224.758125 119.719219 \nL 224.758125 174.079219 \nL 157.798125 174.079219 \nL 157.798125 119.719219 \n\" style=\"fill:#081d58;\"/>\n    <path clip-path=\"url(#pef08c080c9)\" d=\"M 224.758125 119.719219 \nL 291.718125 119.719219 \nL 291.718125 174.079219 \nL 224.758125 174.079219 \nL 224.758125 119.719219 \n\" style=\"fill:#fcfed3;\"/>\n    <path clip-path=\"url(#pef08c080c9)\" d=\"M 23.878125 174.079219 \nL 90.838125 174.079219 \nL 90.838125 228.439219 \nL 23.878125 228.439219 \nL 23.878125 174.079219 \n\" style=\"fill:#eaf7b1;\"/>\n    <path clip-path=\"url(#pef08c080c9)\" d=\"M 90.838125 174.079219 \nL 157.798125 174.079219 \nL 157.798125 228.439219 \nL 90.838125 228.439219 \nL 90.838125 174.079219 \n\" style=\"fill:#ffffd9;\"/>\n    <path clip-path=\"url(#pef08c080c9)\" d=\"M 157.798125 174.079219 \nL 224.758125 174.079219 \nL 224.758125 228.439219 \nL 157.798125 228.439219 \nL 157.798125 174.079219 \n\" style=\"fill:#fcfed3;\"/>\n    <path clip-path=\"url(#pef08c080c9)\" d=\"M 224.758125 174.079219 \nL 291.718125 174.079219 \nL 291.718125 228.439219 \nL 224.758125 228.439219 \nL 224.758125 174.079219 \n\" style=\"fill:#081d58;\"/>\n   </g>\n   <g id=\"matplotlib.axis_1\">\n    <g id=\"xtick_1\">\n     <g id=\"line2d_1\">\n      <defs>\n       <path d=\"M 0 0 \nL 0 3.5 \n\" id=\"m03af0ad5b3\" style=\"stroke:#000000;stroke-width:0.8;\"/>\n      </defs>\n      <g>\n       <use style=\"stroke:#000000;stroke-width:0.8;\" x=\"57.358125\" xlink:href=\"#m03af0ad5b3\" y=\"228.439219\"/>\n      </g>\n     </g>\n     <g id=\"text_1\">\n      <!-- Gender -->\n      <defs>\n       <path d=\"M 59.515625 10.40625 \nL 59.515625 29.984375 \nL 43.40625 29.984375 \nL 43.40625 38.09375 \nL 69.28125 38.09375 \nL 69.28125 6.78125 \nQ 63.578125 2.734375 56.6875 0.65625 \nQ 49.8125 -1.421875 42 -1.421875 \nQ 24.90625 -1.421875 15.25 8.5625 \nQ 5.609375 18.5625 5.609375 36.375 \nQ 5.609375 54.25 15.25 64.234375 \nQ 24.90625 74.21875 42 74.21875 \nQ 49.125 74.21875 55.546875 72.453125 \nQ 61.96875 70.703125 67.390625 67.28125 \nL 67.390625 56.78125 \nQ 61.921875 61.421875 55.765625 63.765625 \nQ 49.609375 66.109375 42.828125 66.109375 \nQ 29.4375 66.109375 22.71875 58.640625 \nQ 16.015625 51.171875 16.015625 36.375 \nQ 16.015625 21.625 22.71875 14.15625 \nQ 29.4375 6.6875 42.828125 6.6875 \nQ 48.046875 6.6875 52.140625 7.59375 \nQ 56.25 8.5 59.515625 10.40625 \nz\n\" id=\"DejaVuSans-71\"/>\n       <path d=\"M 56.203125 29.59375 \nL 56.203125 25.203125 \nL 14.890625 25.203125 \nQ 15.484375 15.921875 20.484375 11.0625 \nQ 25.484375 6.203125 34.421875 6.203125 \nQ 39.59375 6.203125 44.453125 7.46875 \nQ 49.3125 8.734375 54.109375 11.28125 \nL 54.109375 2.78125 \nQ 49.265625 0.734375 44.1875 -0.34375 \nQ 39.109375 -1.421875 33.890625 -1.421875 \nQ 20.796875 -1.421875 13.15625 6.1875 \nQ 5.515625 13.8125 5.515625 26.8125 \nQ 5.515625 40.234375 12.765625 48.109375 \nQ 20.015625 56 32.328125 56 \nQ 43.359375 56 49.78125 48.890625 \nQ 56.203125 41.796875 56.203125 29.59375 \nz\nM 47.21875 32.234375 \nQ 47.125 39.59375 43.09375 43.984375 \nQ 39.0625 48.390625 32.421875 48.390625 \nQ 24.90625 48.390625 20.390625 44.140625 \nQ 15.875 39.890625 15.1875 32.171875 \nz\n\" id=\"DejaVuSans-101\"/>\n       <path d=\"M 54.890625 33.015625 \nL 54.890625 0 \nL 45.90625 0 \nL 45.90625 32.71875 \nQ 45.90625 40.484375 42.875 44.328125 \nQ 39.84375 48.1875 33.796875 48.1875 \nQ 26.515625 48.1875 22.3125 43.546875 \nQ 18.109375 38.921875 18.109375 30.90625 \nL 18.109375 0 \nL 9.078125 0 \nL 9.078125 54.6875 \nL 18.109375 54.6875 \nL 18.109375 46.1875 \nQ 21.34375 51.125 25.703125 53.5625 \nQ 30.078125 56 35.796875 56 \nQ 45.21875 56 50.046875 50.171875 \nQ 54.890625 44.34375 54.890625 33.015625 \nz\n\" id=\"DejaVuSans-110\"/>\n       <path d=\"M 45.40625 46.390625 \nL 45.40625 75.984375 \nL 54.390625 75.984375 \nL 54.390625 0 \nL 45.40625 0 \nL 45.40625 8.203125 \nQ 42.578125 3.328125 38.25 0.953125 \nQ 33.9375 -1.421875 27.875 -1.421875 \nQ 17.96875 -1.421875 11.734375 6.484375 \nQ 5.515625 14.40625 5.515625 27.296875 \nQ 5.515625 40.1875 11.734375 48.09375 \nQ 17.96875 56 27.875 56 \nQ 33.9375 56 38.25 53.625 \nQ 42.578125 51.265625 45.40625 46.390625 \nz\nM 14.796875 27.296875 \nQ 14.796875 17.390625 18.875 11.75 \nQ 22.953125 6.109375 30.078125 6.109375 \nQ 37.203125 6.109375 41.296875 11.75 \nQ 45.40625 17.390625 45.40625 27.296875 \nQ 45.40625 37.203125 41.296875 42.84375 \nQ 37.203125 48.484375 30.078125 48.484375 \nQ 22.953125 48.484375 18.875 42.84375 \nQ 14.796875 37.203125 14.796875 27.296875 \nz\n\" id=\"DejaVuSans-100\"/>\n       <path d=\"M 41.109375 46.296875 \nQ 39.59375 47.171875 37.8125 47.578125 \nQ 36.03125 48 33.890625 48 \nQ 26.265625 48 22.1875 43.046875 \nQ 18.109375 38.09375 18.109375 28.8125 \nL 18.109375 0 \nL 9.078125 0 \nL 9.078125 54.6875 \nL 18.109375 54.6875 \nL 18.109375 46.1875 \nQ 20.953125 51.171875 25.484375 53.578125 \nQ 30.03125 56 36.53125 56 \nQ 37.453125 56 38.578125 55.875 \nQ 39.703125 55.765625 41.0625 55.515625 \nz\n\" id=\"DejaVuSans-114\"/>\n      </defs>\n      <g transform=\"translate(38.932344 243.037656)scale(0.1 -0.1)\">\n       <use xlink:href=\"#DejaVuSans-71\"/>\n       <use x=\"77.490234\" xlink:href=\"#DejaVuSans-101\"/>\n       <use x=\"139.013672\" xlink:href=\"#DejaVuSans-110\"/>\n       <use x=\"202.392578\" xlink:href=\"#DejaVuSans-100\"/>\n       <use x=\"265.869141\" xlink:href=\"#DejaVuSans-101\"/>\n       <use x=\"327.392578\" xlink:href=\"#DejaVuSans-114\"/>\n      </g>\n     </g>\n    </g>\n    <g id=\"xtick_2\">\n     <g id=\"line2d_2\">\n      <g>\n       <use style=\"stroke:#000000;stroke-width:0.8;\" x=\"124.318125\" xlink:href=\"#m03af0ad5b3\" y=\"228.439219\"/>\n      </g>\n     </g>\n     <g id=\"text_2\">\n      <!-- Age -->\n      <defs>\n       <path d=\"M 34.1875 63.1875 \nL 20.796875 26.90625 \nL 47.609375 26.90625 \nz\nM 28.609375 72.90625 \nL 39.796875 72.90625 \nL 67.578125 0 \nL 57.328125 0 \nL 50.6875 18.703125 \nL 17.828125 18.703125 \nL 11.1875 0 \nL 0.78125 0 \nz\n\" id=\"DejaVuSans-65\"/>\n       <path d=\"M 45.40625 27.984375 \nQ 45.40625 37.75 41.375 43.109375 \nQ 37.359375 48.484375 30.078125 48.484375 \nQ 22.859375 48.484375 18.828125 43.109375 \nQ 14.796875 37.75 14.796875 27.984375 \nQ 14.796875 18.265625 18.828125 12.890625 \nQ 22.859375 7.515625 30.078125 7.515625 \nQ 37.359375 7.515625 41.375 12.890625 \nQ 45.40625 18.265625 45.40625 27.984375 \nz\nM 54.390625 6.78125 \nQ 54.390625 -7.171875 48.1875 -13.984375 \nQ 42 -20.796875 29.203125 -20.796875 \nQ 24.46875 -20.796875 20.265625 -20.09375 \nQ 16.0625 -19.390625 12.109375 -17.921875 \nL 12.109375 -9.1875 \nQ 16.0625 -11.328125 19.921875 -12.34375 \nQ 23.78125 -13.375 27.78125 -13.375 \nQ 36.625 -13.375 41.015625 -8.765625 \nQ 45.40625 -4.15625 45.40625 5.171875 \nL 45.40625 9.625 \nQ 42.625 4.78125 38.28125 2.390625 \nQ 33.9375 0 27.875 0 \nQ 17.828125 0 11.671875 7.65625 \nQ 5.515625 15.328125 5.515625 27.984375 \nQ 5.515625 40.671875 11.671875 48.328125 \nQ 17.828125 56 27.875 56 \nQ 33.9375 56 38.28125 53.609375 \nQ 42.625 51.21875 45.40625 46.390625 \nL 45.40625 54.6875 \nL 54.390625 54.6875 \nz\n\" id=\"DejaVuSans-103\"/>\n      </defs>\n      <g transform=\"translate(114.647031 243.037656)scale(0.1 -0.1)\">\n       <use xlink:href=\"#DejaVuSans-65\"/>\n       <use x=\"68.408203\" xlink:href=\"#DejaVuSans-103\"/>\n       <use x=\"131.884766\" xlink:href=\"#DejaVuSans-101\"/>\n      </g>\n     </g>\n    </g>\n    <g id=\"xtick_3\">\n     <g id=\"line2d_3\">\n      <g>\n       <use style=\"stroke:#000000;stroke-width:0.8;\" x=\"191.278125\" xlink:href=\"#m03af0ad5b3\" y=\"228.439219\"/>\n      </g>\n     </g>\n     <g id=\"text_3\">\n      <!-- Income -->\n      <defs>\n       <path d=\"M 9.8125 72.90625 \nL 19.671875 72.90625 \nL 19.671875 0 \nL 9.8125 0 \nz\n\" id=\"DejaVuSans-73\"/>\n       <path d=\"M 48.78125 52.59375 \nL 48.78125 44.1875 \nQ 44.96875 46.296875 41.140625 47.34375 \nQ 37.3125 48.390625 33.40625 48.390625 \nQ 24.65625 48.390625 19.8125 42.84375 \nQ 14.984375 37.3125 14.984375 27.296875 \nQ 14.984375 17.28125 19.8125 11.734375 \nQ 24.65625 6.203125 33.40625 6.203125 \nQ 37.3125 6.203125 41.140625 7.25 \nQ 44.96875 8.296875 48.78125 10.40625 \nL 48.78125 2.09375 \nQ 45.015625 0.34375 40.984375 -0.53125 \nQ 36.96875 -1.421875 32.421875 -1.421875 \nQ 20.0625 -1.421875 12.78125 6.34375 \nQ 5.515625 14.109375 5.515625 27.296875 \nQ 5.515625 40.671875 12.859375 48.328125 \nQ 20.21875 56 33.015625 56 \nQ 37.15625 56 41.109375 55.140625 \nQ 45.0625 54.296875 48.78125 52.59375 \nz\n\" id=\"DejaVuSans-99\"/>\n       <path d=\"M 30.609375 48.390625 \nQ 23.390625 48.390625 19.1875 42.75 \nQ 14.984375 37.109375 14.984375 27.296875 \nQ 14.984375 17.484375 19.15625 11.84375 \nQ 23.34375 6.203125 30.609375 6.203125 \nQ 37.796875 6.203125 41.984375 11.859375 \nQ 46.1875 17.53125 46.1875 27.296875 \nQ 46.1875 37.015625 41.984375 42.703125 \nQ 37.796875 48.390625 30.609375 48.390625 \nz\nM 30.609375 56 \nQ 42.328125 56 49.015625 48.375 \nQ 55.71875 40.765625 55.71875 27.296875 \nQ 55.71875 13.875 49.015625 6.21875 \nQ 42.328125 -1.421875 30.609375 -1.421875 \nQ 18.84375 -1.421875 12.171875 6.21875 \nQ 5.515625 13.875 5.515625 27.296875 \nQ 5.515625 40.765625 12.171875 48.375 \nQ 18.84375 56 30.609375 56 \nz\n\" id=\"DejaVuSans-111\"/>\n       <path d=\"M 52 44.1875 \nQ 55.375 50.25 60.0625 53.125 \nQ 64.75 56 71.09375 56 \nQ 79.640625 56 84.28125 50.015625 \nQ 88.921875 44.046875 88.921875 33.015625 \nL 88.921875 0 \nL 79.890625 0 \nL 79.890625 32.71875 \nQ 79.890625 40.578125 77.09375 44.375 \nQ 74.3125 48.1875 68.609375 48.1875 \nQ 61.625 48.1875 57.5625 43.546875 \nQ 53.515625 38.921875 53.515625 30.90625 \nL 53.515625 0 \nL 44.484375 0 \nL 44.484375 32.71875 \nQ 44.484375 40.625 41.703125 44.40625 \nQ 38.921875 48.1875 33.109375 48.1875 \nQ 26.21875 48.1875 22.15625 43.53125 \nQ 18.109375 38.875 18.109375 30.90625 \nL 18.109375 0 \nL 9.078125 0 \nL 9.078125 54.6875 \nL 18.109375 54.6875 \nL 18.109375 46.1875 \nQ 21.1875 51.21875 25.484375 53.609375 \nQ 29.78125 56 35.6875 56 \nQ 41.65625 56 45.828125 52.96875 \nQ 50 49.953125 52 44.1875 \nz\n\" id=\"DejaVuSans-109\"/>\n      </defs>\n      <g transform=\"translate(172.878906 243.037656)scale(0.1 -0.1)\">\n       <use xlink:href=\"#DejaVuSans-73\"/>\n       <use x=\"29.492188\" xlink:href=\"#DejaVuSans-110\"/>\n       <use x=\"92.871094\" xlink:href=\"#DejaVuSans-99\"/>\n       <use x=\"147.851562\" xlink:href=\"#DejaVuSans-111\"/>\n       <use x=\"209.033203\" xlink:href=\"#DejaVuSans-109\"/>\n       <use x=\"306.445312\" xlink:href=\"#DejaVuSans-101\"/>\n      </g>\n     </g>\n    </g>\n    <g id=\"xtick_4\">\n     <g id=\"line2d_4\">\n      <g>\n       <use style=\"stroke:#000000;stroke-width:0.8;\" x=\"258.238125\" xlink:href=\"#m03af0ad5b3\" y=\"228.439219\"/>\n      </g>\n     </g>\n     <g id=\"text_4\">\n      <!-- City -->\n      <defs>\n       <path d=\"M 64.40625 67.28125 \nL 64.40625 56.890625 \nQ 59.421875 61.53125 53.78125 63.8125 \nQ 48.140625 66.109375 41.796875 66.109375 \nQ 29.296875 66.109375 22.65625 58.46875 \nQ 16.015625 50.828125 16.015625 36.375 \nQ 16.015625 21.96875 22.65625 14.328125 \nQ 29.296875 6.6875 41.796875 6.6875 \nQ 48.140625 6.6875 53.78125 8.984375 \nQ 59.421875 11.28125 64.40625 15.921875 \nL 64.40625 5.609375 \nQ 59.234375 2.09375 53.4375 0.328125 \nQ 47.65625 -1.421875 41.21875 -1.421875 \nQ 24.65625 -1.421875 15.125 8.703125 \nQ 5.609375 18.84375 5.609375 36.375 \nQ 5.609375 53.953125 15.125 64.078125 \nQ 24.65625 74.21875 41.21875 74.21875 \nQ 47.75 74.21875 53.53125 72.484375 \nQ 59.328125 70.75 64.40625 67.28125 \nz\n\" id=\"DejaVuSans-67\"/>\n       <path d=\"M 9.421875 54.6875 \nL 18.40625 54.6875 \nL 18.40625 0 \nL 9.421875 0 \nz\nM 9.421875 75.984375 \nL 18.40625 75.984375 \nL 18.40625 64.59375 \nL 9.421875 64.59375 \nz\n\" id=\"DejaVuSans-105\"/>\n       <path d=\"M 18.3125 70.21875 \nL 18.3125 54.6875 \nL 36.8125 54.6875 \nL 36.8125 47.703125 \nL 18.3125 47.703125 \nL 18.3125 18.015625 \nQ 18.3125 11.328125 20.140625 9.421875 \nQ 21.96875 7.515625 27.59375 7.515625 \nL 36.8125 7.515625 \nL 36.8125 0 \nL 27.59375 0 \nQ 17.1875 0 13.234375 3.875 \nQ 9.28125 7.765625 9.28125 18.015625 \nL 9.28125 47.703125 \nL 2.6875 47.703125 \nL 2.6875 54.6875 \nL 9.28125 54.6875 \nL 9.28125 70.21875 \nz\n\" id=\"DejaVuSans-116\"/>\n       <path d=\"M 32.171875 -5.078125 \nQ 28.375 -14.84375 24.75 -17.8125 \nQ 21.140625 -20.796875 15.09375 -20.796875 \nL 7.90625 -20.796875 \nL 7.90625 -13.28125 \nL 13.1875 -13.28125 \nQ 16.890625 -13.28125 18.9375 -11.515625 \nQ 21 -9.765625 23.484375 -3.21875 \nL 25.09375 0.875 \nL 2.984375 54.6875 \nL 12.5 54.6875 \nL 29.59375 11.921875 \nL 46.6875 54.6875 \nL 56.203125 54.6875 \nz\n\" id=\"DejaVuSans-121\"/>\n      </defs>\n      <g transform=\"translate(248.438125 243.037656)scale(0.1 -0.1)\">\n       <use xlink:href=\"#DejaVuSans-67\"/>\n       <use x=\"69.824219\" xlink:href=\"#DejaVuSans-105\"/>\n       <use x=\"97.607422\" xlink:href=\"#DejaVuSans-116\"/>\n       <use x=\"136.816406\" xlink:href=\"#DejaVuSans-121\"/>\n      </g>\n     </g>\n    </g>\n   </g>\n   <g id=\"matplotlib.axis_2\">\n    <g id=\"ytick_1\">\n     <g id=\"line2d_5\">\n      <defs>\n       <path d=\"M 0 0 \nL -3.5 0 \n\" id=\"md7cceff73b\" style=\"stroke:#000000;stroke-width:0.8;\"/>\n      </defs>\n      <g>\n       <use style=\"stroke:#000000;stroke-width:0.8;\" x=\"23.878125\" xlink:href=\"#md7cceff73b\" y=\"38.179219\"/>\n      </g>\n     </g>\n     <g id=\"text_5\">\n      <!-- Gender -->\n      <g transform=\"translate(14.798437 71.231562)rotate(-90)scale(0.1 -0.1)\">\n       <use xlink:href=\"#DejaVuSans-71\"/>\n       <use x=\"77.490234\" xlink:href=\"#DejaVuSans-101\"/>\n       <use x=\"139.013672\" xlink:href=\"#DejaVuSans-110\"/>\n       <use x=\"202.392578\" xlink:href=\"#DejaVuSans-100\"/>\n       <use x=\"265.869141\" xlink:href=\"#DejaVuSans-101\"/>\n       <use x=\"327.392578\" xlink:href=\"#DejaVuSans-114\"/>\n      </g>\n     </g>\n    </g>\n    <g id=\"ytick_2\">\n     <g id=\"line2d_6\">\n      <g>\n       <use style=\"stroke:#000000;stroke-width:0.8;\" x=\"23.878125\" xlink:href=\"#md7cceff73b\" y=\"92.539219\"/>\n      </g>\n     </g>\n     <g id=\"text_6\">\n      <!-- Age -->\n      <g transform=\"translate(14.798437 108.082187)rotate(-90)scale(0.1 -0.1)\">\n       <use xlink:href=\"#DejaVuSans-65\"/>\n       <use x=\"68.408203\" xlink:href=\"#DejaVuSans-103\"/>\n       <use x=\"131.884766\" xlink:href=\"#DejaVuSans-101\"/>\n      </g>\n     </g>\n    </g>\n    <g id=\"ytick_3\">\n     <g id=\"line2d_7\">\n      <g>\n       <use style=\"stroke:#000000;stroke-width:0.8;\" x=\"23.878125\" xlink:href=\"#md7cceff73b\" y=\"146.899219\"/>\n      </g>\n     </g>\n     <g id=\"text_7\">\n      <!-- Income -->\n      <g transform=\"translate(14.798437 179.898438)rotate(-90)scale(0.1 -0.1)\">\n       <use xlink:href=\"#DejaVuSans-73\"/>\n       <use x=\"29.492188\" xlink:href=\"#DejaVuSans-110\"/>\n       <use x=\"92.871094\" xlink:href=\"#DejaVuSans-99\"/>\n       <use x=\"147.851562\" xlink:href=\"#DejaVuSans-111\"/>\n       <use x=\"209.033203\" xlink:href=\"#DejaVuSans-109\"/>\n       <use x=\"306.445312\" xlink:href=\"#DejaVuSans-101\"/>\n      </g>\n     </g>\n    </g>\n    <g id=\"ytick_4\">\n     <g id=\"line2d_8\">\n      <g>\n       <use style=\"stroke:#000000;stroke-width:0.8;\" x=\"23.878125\" xlink:href=\"#md7cceff73b\" y=\"201.259219\"/>\n      </g>\n     </g>\n     <g id=\"text_8\">\n      <!-- City -->\n      <g transform=\"translate(14.798437 217.06)rotate(-90)scale(0.1 -0.1)\">\n       <use xlink:href=\"#DejaVuSans-67\"/>\n       <use x=\"69.824219\" xlink:href=\"#DejaVuSans-105\"/>\n       <use x=\"97.607422\" xlink:href=\"#DejaVuSans-116\"/>\n       <use x=\"136.816406\" xlink:href=\"#DejaVuSans-121\"/>\n      </g>\n     </g>\n    </g>\n   </g>\n   <g id=\"text_9\">\n    <!-- 1 -->\n    <defs>\n     <path d=\"M 12.40625 8.296875 \nL 28.515625 8.296875 \nL 28.515625 63.921875 \nL 10.984375 60.40625 \nL 10.984375 69.390625 \nL 28.421875 72.90625 \nL 38.28125 72.90625 \nL 38.28125 8.296875 \nL 54.390625 8.296875 \nL 54.390625 0 \nL 12.40625 0 \nz\n\" id=\"DejaVuSans-49\"/>\n    </defs>\n    <g style=\"fill:#ffffff;\" transform=\"translate(54.176875 40.938594)scale(0.1 -0.1)\">\n     <use xlink:href=\"#DejaVuSans-49\"/>\n    </g>\n   </g>\n   <g id=\"text_10\">\n    <!-- 0 -->\n    <defs>\n     <path d=\"M 31.78125 66.40625 \nQ 24.171875 66.40625 20.328125 58.90625 \nQ 16.5 51.421875 16.5 36.375 \nQ 16.5 21.390625 20.328125 13.890625 \nQ 24.171875 6.390625 31.78125 6.390625 \nQ 39.453125 6.390625 43.28125 13.890625 \nQ 47.125 21.390625 47.125 36.375 \nQ 47.125 51.421875 43.28125 58.90625 \nQ 39.453125 66.40625 31.78125 66.40625 \nz\nM 31.78125 74.21875 \nQ 44.046875 74.21875 50.515625 64.515625 \nQ 56.984375 54.828125 56.984375 36.375 \nQ 56.984375 17.96875 50.515625 8.265625 \nQ 44.046875 -1.421875 31.78125 -1.421875 \nQ 19.53125 -1.421875 13.0625 8.265625 \nQ 6.59375 17.96875 6.59375 36.375 \nQ 6.59375 54.828125 13.0625 64.515625 \nQ 19.53125 74.21875 31.78125 74.21875 \nz\n\" id=\"DejaVuSans-48\"/>\n    </defs>\n    <g style=\"fill:#262626;\" transform=\"translate(121.136875 40.938594)scale(0.1 -0.1)\">\n     <use xlink:href=\"#DejaVuSans-48\"/>\n    </g>\n   </g>\n   <g id=\"text_11\">\n    <!-- 0.003 -->\n    <defs>\n     <path d=\"M 10.6875 12.40625 \nL 21 12.40625 \nL 21 0 \nL 10.6875 0 \nz\n\" id=\"DejaVuSans-46\"/>\n     <path d=\"M 40.578125 39.3125 \nQ 47.65625 37.796875 51.625 33 \nQ 55.609375 28.21875 55.609375 21.1875 \nQ 55.609375 10.40625 48.1875 4.484375 \nQ 40.765625 -1.421875 27.09375 -1.421875 \nQ 22.515625 -1.421875 17.65625 -0.515625 \nQ 12.796875 0.390625 7.625 2.203125 \nL 7.625 11.71875 \nQ 11.71875 9.328125 16.59375 8.109375 \nQ 21.484375 6.890625 26.8125 6.890625 \nQ 36.078125 6.890625 40.9375 10.546875 \nQ 45.796875 14.203125 45.796875 21.1875 \nQ 45.796875 27.640625 41.28125 31.265625 \nQ 36.765625 34.90625 28.71875 34.90625 \nL 20.21875 34.90625 \nL 20.21875 43.015625 \nL 29.109375 43.015625 \nQ 36.375 43.015625 40.234375 45.921875 \nQ 44.09375 48.828125 44.09375 54.296875 \nQ 44.09375 59.90625 40.109375 62.90625 \nQ 36.140625 65.921875 28.71875 65.921875 \nQ 24.65625 65.921875 20.015625 65.03125 \nQ 15.375 64.15625 9.8125 62.3125 \nL 9.8125 71.09375 \nQ 15.4375 72.65625 20.34375 73.4375 \nQ 25.25 74.21875 29.59375 74.21875 \nQ 40.828125 74.21875 47.359375 69.109375 \nQ 53.90625 64.015625 53.90625 55.328125 \nQ 53.90625 49.265625 50.4375 45.09375 \nQ 46.96875 40.921875 40.578125 39.3125 \nz\n\" id=\"DejaVuSans-51\"/>\n    </defs>\n    <g style=\"fill:#262626;\" transform=\"translate(176.964063 40.938594)scale(0.1 -0.1)\">\n     <use xlink:href=\"#DejaVuSans-48\"/>\n     <use x=\"63.623047\" xlink:href=\"#DejaVuSans-46\"/>\n     <use x=\"95.410156\" xlink:href=\"#DejaVuSans-48\"/>\n     <use x=\"159.033203\" xlink:href=\"#DejaVuSans-48\"/>\n     <use x=\"222.65625\" xlink:href=\"#DejaVuSans-51\"/>\n    </g>\n   </g>\n   <g id=\"text_12\">\n    <!-- 0.11 -->\n    <g style=\"fill:#262626;\" transform=\"translate(247.105313 40.938594)scale(0.1 -0.1)\">\n     <use xlink:href=\"#DejaVuSans-48\"/>\n     <use x=\"63.623047\" xlink:href=\"#DejaVuSans-46\"/>\n     <use x=\"95.410156\" xlink:href=\"#DejaVuSans-49\"/>\n     <use x=\"159.033203\" xlink:href=\"#DejaVuSans-49\"/>\n    </g>\n   </g>\n   <g id=\"text_13\">\n    <!-- 0 -->\n    <g style=\"fill:#262626;\" transform=\"translate(54.176875 95.298594)scale(0.1 -0.1)\">\n     <use xlink:href=\"#DejaVuSans-48\"/>\n    </g>\n   </g>\n   <g id=\"text_14\">\n    <!-- 1 -->\n    <g style=\"fill:#ffffff;\" transform=\"translate(121.136875 95.298594)scale(0.1 -0.1)\">\n     <use xlink:href=\"#DejaVuSans-49\"/>\n    </g>\n   </g>\n   <g id=\"text_15\">\n    <!-- 0.98 -->\n    <defs>\n     <path d=\"M 10.984375 1.515625 \nL 10.984375 10.5 \nQ 14.703125 8.734375 18.5 7.8125 \nQ 22.3125 6.890625 25.984375 6.890625 \nQ 35.75 6.890625 40.890625 13.453125 \nQ 46.046875 20.015625 46.78125 33.40625 \nQ 43.953125 29.203125 39.59375 26.953125 \nQ 35.25 24.703125 29.984375 24.703125 \nQ 19.046875 24.703125 12.671875 31.3125 \nQ 6.296875 37.9375 6.296875 49.421875 \nQ 6.296875 60.640625 12.9375 67.421875 \nQ 19.578125 74.21875 30.609375 74.21875 \nQ 43.265625 74.21875 49.921875 64.515625 \nQ 56.59375 54.828125 56.59375 36.375 \nQ 56.59375 19.140625 48.40625 8.859375 \nQ 40.234375 -1.421875 26.421875 -1.421875 \nQ 22.703125 -1.421875 18.890625 -0.6875 \nQ 15.09375 0.046875 10.984375 1.515625 \nz\nM 30.609375 32.421875 \nQ 37.25 32.421875 41.125 36.953125 \nQ 45.015625 41.5 45.015625 49.421875 \nQ 45.015625 57.28125 41.125 61.84375 \nQ 37.25 66.40625 30.609375 66.40625 \nQ 23.96875 66.40625 20.09375 61.84375 \nQ 16.21875 57.28125 16.21875 49.421875 \nQ 16.21875 41.5 20.09375 36.953125 \nQ 23.96875 32.421875 30.609375 32.421875 \nz\n\" id=\"DejaVuSans-57\"/>\n     <path d=\"M 31.78125 34.625 \nQ 24.75 34.625 20.71875 30.859375 \nQ 16.703125 27.09375 16.703125 20.515625 \nQ 16.703125 13.921875 20.71875 10.15625 \nQ 24.75 6.390625 31.78125 6.390625 \nQ 38.8125 6.390625 42.859375 10.171875 \nQ 46.921875 13.96875 46.921875 20.515625 \nQ 46.921875 27.09375 42.890625 30.859375 \nQ 38.875 34.625 31.78125 34.625 \nz\nM 21.921875 38.8125 \nQ 15.578125 40.375 12.03125 44.71875 \nQ 8.5 49.078125 8.5 55.328125 \nQ 8.5 64.0625 14.71875 69.140625 \nQ 20.953125 74.21875 31.78125 74.21875 \nQ 42.671875 74.21875 48.875 69.140625 \nQ 55.078125 64.0625 55.078125 55.328125 \nQ 55.078125 49.078125 51.53125 44.71875 \nQ 48 40.375 41.703125 38.8125 \nQ 48.828125 37.15625 52.796875 32.3125 \nQ 56.78125 27.484375 56.78125 20.515625 \nQ 56.78125 9.90625 50.3125 4.234375 \nQ 43.84375 -1.421875 31.78125 -1.421875 \nQ 19.734375 -1.421875 13.25 4.234375 \nQ 6.78125 9.90625 6.78125 20.515625 \nQ 6.78125 27.484375 10.78125 32.3125 \nQ 14.796875 37.15625 21.921875 38.8125 \nz\nM 18.3125 54.390625 \nQ 18.3125 48.734375 21.84375 45.5625 \nQ 25.390625 42.390625 31.78125 42.390625 \nQ 38.140625 42.390625 41.71875 45.5625 \nQ 45.3125 48.734375 45.3125 54.390625 \nQ 45.3125 60.0625 41.71875 63.234375 \nQ 38.140625 66.40625 31.78125 66.40625 \nQ 25.390625 66.40625 21.84375 63.234375 \nQ 18.3125 60.0625 18.3125 54.390625 \nz\n\" id=\"DejaVuSans-56\"/>\n    </defs>\n    <g style=\"fill:#ffffff;\" transform=\"translate(180.145313 95.298594)scale(0.1 -0.1)\">\n     <use xlink:href=\"#DejaVuSans-48\"/>\n     <use x=\"63.623047\" xlink:href=\"#DejaVuSans-46\"/>\n     <use x=\"95.410156\" xlink:href=\"#DejaVuSans-57\"/>\n     <use x=\"159.033203\" xlink:href=\"#DejaVuSans-56\"/>\n    </g>\n   </g>\n   <g id=\"text_16\">\n    <!-- -0.025 -->\n    <defs>\n     <path d=\"M 4.890625 31.390625 \nL 31.203125 31.390625 \nL 31.203125 23.390625 \nL 4.890625 23.390625 \nz\n\" id=\"DejaVuSans-45\"/>\n     <path d=\"M 19.1875 8.296875 \nL 53.609375 8.296875 \nL 53.609375 0 \nL 7.328125 0 \nL 7.328125 8.296875 \nQ 12.9375 14.109375 22.625 23.890625 \nQ 32.328125 33.6875 34.8125 36.53125 \nQ 39.546875 41.84375 41.421875 45.53125 \nQ 43.3125 49.21875 43.3125 52.78125 \nQ 43.3125 58.59375 39.234375 62.25 \nQ 35.15625 65.921875 28.609375 65.921875 \nQ 23.96875 65.921875 18.8125 64.3125 \nQ 13.671875 62.703125 7.8125 59.421875 \nL 7.8125 69.390625 \nQ 13.765625 71.78125 18.9375 73 \nQ 24.125 74.21875 28.421875 74.21875 \nQ 39.75 74.21875 46.484375 68.546875 \nQ 53.21875 62.890625 53.21875 53.421875 \nQ 53.21875 48.921875 51.53125 44.890625 \nQ 49.859375 40.875 45.40625 35.40625 \nQ 44.1875 33.984375 37.640625 27.21875 \nQ 31.109375 20.453125 19.1875 8.296875 \nz\n\" id=\"DejaVuSans-50\"/>\n     <path d=\"M 10.796875 72.90625 \nL 49.515625 72.90625 \nL 49.515625 64.59375 \nL 19.828125 64.59375 \nL 19.828125 46.734375 \nQ 21.96875 47.46875 24.109375 47.828125 \nQ 26.265625 48.1875 28.421875 48.1875 \nQ 40.625 48.1875 47.75 41.5 \nQ 54.890625 34.8125 54.890625 23.390625 \nQ 54.890625 11.625 47.5625 5.09375 \nQ 40.234375 -1.421875 26.90625 -1.421875 \nQ 22.3125 -1.421875 17.546875 -0.640625 \nQ 12.796875 0.140625 7.71875 1.703125 \nL 7.71875 11.625 \nQ 12.109375 9.234375 16.796875 8.0625 \nQ 21.484375 6.890625 26.703125 6.890625 \nQ 35.15625 6.890625 40.078125 11.328125 \nQ 45.015625 15.765625 45.015625 23.390625 \nQ 45.015625 31 40.078125 35.4375 \nQ 35.15625 39.890625 26.703125 39.890625 \nQ 22.75 39.890625 18.8125 39.015625 \nQ 14.890625 38.140625 10.796875 36.28125 \nz\n\" id=\"DejaVuSans-53\"/>\n    </defs>\n    <g style=\"fill:#262626;\" transform=\"translate(242.120156 95.298594)scale(0.1 -0.1)\">\n     <use xlink:href=\"#DejaVuSans-45\"/>\n     <use x=\"36.083984\" xlink:href=\"#DejaVuSans-48\"/>\n     <use x=\"99.707031\" xlink:href=\"#DejaVuSans-46\"/>\n     <use x=\"131.494141\" xlink:href=\"#DejaVuSans-48\"/>\n     <use x=\"195.117188\" xlink:href=\"#DejaVuSans-50\"/>\n     <use x=\"258.740234\" xlink:href=\"#DejaVuSans-53\"/>\n    </g>\n   </g>\n   <g id=\"text_17\">\n    <!-- 0.003 -->\n    <g style=\"fill:#262626;\" transform=\"translate(43.044063 149.658594)scale(0.1 -0.1)\">\n     <use xlink:href=\"#DejaVuSans-48\"/>\n     <use x=\"63.623047\" xlink:href=\"#DejaVuSans-46\"/>\n     <use x=\"95.410156\" xlink:href=\"#DejaVuSans-48\"/>\n     <use x=\"159.033203\" xlink:href=\"#DejaVuSans-48\"/>\n     <use x=\"222.65625\" xlink:href=\"#DejaVuSans-51\"/>\n    </g>\n   </g>\n   <g id=\"text_18\">\n    <!-- 0.98 -->\n    <g style=\"fill:#ffffff;\" transform=\"translate(113.185313 149.658594)scale(0.1 -0.1)\">\n     <use xlink:href=\"#DejaVuSans-48\"/>\n     <use x=\"63.623047\" xlink:href=\"#DejaVuSans-46\"/>\n     <use x=\"95.410156\" xlink:href=\"#DejaVuSans-57\"/>\n     <use x=\"159.033203\" xlink:href=\"#DejaVuSans-56\"/>\n    </g>\n   </g>\n   <g id=\"text_19\">\n    <!-- 1 -->\n    <g style=\"fill:#ffffff;\" transform=\"translate(188.096875 149.658594)scale(0.1 -0.1)\">\n     <use xlink:href=\"#DejaVuSans-49\"/>\n    </g>\n   </g>\n   <g id=\"text_20\">\n    <!-- -0.0038 -->\n    <g style=\"fill:#262626;\" transform=\"translate(238.938906 149.658594)scale(0.1 -0.1)\">\n     <use xlink:href=\"#DejaVuSans-45\"/>\n     <use x=\"36.083984\" xlink:href=\"#DejaVuSans-48\"/>\n     <use x=\"99.707031\" xlink:href=\"#DejaVuSans-46\"/>\n     <use x=\"131.494141\" xlink:href=\"#DejaVuSans-48\"/>\n     <use x=\"195.117188\" xlink:href=\"#DejaVuSans-48\"/>\n     <use x=\"258.740234\" xlink:href=\"#DejaVuSans-51\"/>\n     <use x=\"322.363281\" xlink:href=\"#DejaVuSans-56\"/>\n    </g>\n   </g>\n   <g id=\"text_21\">\n    <!-- 0.11 -->\n    <g style=\"fill:#262626;\" transform=\"translate(46.225313 204.018594)scale(0.1 -0.1)\">\n     <use xlink:href=\"#DejaVuSans-48\"/>\n     <use x=\"63.623047\" xlink:href=\"#DejaVuSans-46\"/>\n     <use x=\"95.410156\" xlink:href=\"#DejaVuSans-49\"/>\n     <use x=\"159.033203\" xlink:href=\"#DejaVuSans-49\"/>\n    </g>\n   </g>\n   <g id=\"text_22\">\n    <!-- -0.025 -->\n    <g style=\"fill:#262626;\" transform=\"translate(108.200156 204.018594)scale(0.1 -0.1)\">\n     <use xlink:href=\"#DejaVuSans-45\"/>\n     <use x=\"36.083984\" xlink:href=\"#DejaVuSans-48\"/>\n     <use x=\"99.707031\" xlink:href=\"#DejaVuSans-46\"/>\n     <use x=\"131.494141\" xlink:href=\"#DejaVuSans-48\"/>\n     <use x=\"195.117188\" xlink:href=\"#DejaVuSans-50\"/>\n     <use x=\"258.740234\" xlink:href=\"#DejaVuSans-53\"/>\n    </g>\n   </g>\n   <g id=\"text_23\">\n    <!-- -0.0038 -->\n    <g style=\"fill:#262626;\" transform=\"translate(171.978906 204.018594)scale(0.1 -0.1)\">\n     <use xlink:href=\"#DejaVuSans-45\"/>\n     <use x=\"36.083984\" xlink:href=\"#DejaVuSans-48\"/>\n     <use x=\"99.707031\" xlink:href=\"#DejaVuSans-46\"/>\n     <use x=\"131.494141\" xlink:href=\"#DejaVuSans-48\"/>\n     <use x=\"195.117188\" xlink:href=\"#DejaVuSans-48\"/>\n     <use x=\"258.740234\" xlink:href=\"#DejaVuSans-51\"/>\n     <use x=\"322.363281\" xlink:href=\"#DejaVuSans-56\"/>\n    </g>\n   </g>\n   <g id=\"text_24\">\n    <!-- 1 -->\n    <g style=\"fill:#ffffff;\" transform=\"translate(255.056875 204.018594)scale(0.1 -0.1)\">\n     <use xlink:href=\"#DejaVuSans-49\"/>\n    </g>\n   </g>\n  </g>\n  <g id=\"axes_2\">\n   <g id=\"patch_3\">\n    <path clip-path=\"url(#pd505561db7)\" d=\"M 308.458125 228.439219 \nL 308.458125 227.589844 \nL 308.458125 11.848594 \nL 308.458125 10.999219 \nL 319.330125 10.999219 \nL 319.330125 11.848594 \nL 319.330125 227.589844 \nL 319.330125 228.439219 \nz\n\" style=\"fill:#ffffff;stroke:#ffffff;stroke-linejoin:miter;stroke-width:0.01;\"/>\n   </g>\n   <image height=\"217\" id=\"image25387022ad\" transform=\"scale(1 -1)translate(0 -217)\" width=\"11\" x=\"308\" xlink:href=\"data:image/png;base64,\niVBORw0KGgoAAAANSUhEUgAAAAsAAADZCAYAAAD2WsoCAAAABHNCSVQICAgIfAhkiAAAAW9JREFUaIHdmkGOwCAMA43E/9+3f1lI9guZw0h0e7YsxzE0Lazqn87w2UlNsdndY+LsBIA7V5LRRAbUDKxjzE2aIsrwfLYKhBFFMiw3ukH4YUS18LOIWqmbi0j2nDfZQAVmXnPwFWU8wWwWCHxGzKVp/iIzaneRprDV/UiBhPkANLMOLSuUDVQg0vzL3LDAF0WUMJ83ZJjWAfApkuc5MS7Q8hm6AcBsK5gTm9k4ms/oRW/udQDsuSGGf05M3SBbgSfDc+OiAt+IqOcGa7cWfjYxIhlAB5RBXhNwMteYkWbPuk+6gWQ8Yd0VC/TAlnUXjF8b/CfLDlkpIQUuxjzGZgeMuUwz+JWbvRgzAYP0M83QjTfazdz4YLsRM/j+N9vtbTLgi1cskEXU2xi1PDPrGJjIEN1Aef7nBXp59mQsbyvQpgLEXH3mYDheohnJO0kHYOiGdaDvXZyAmj03NDA5o6/SChSbgu7JkPAXurz0ght/rVym7XqqraoAAAAASUVORK5CYII=\" y=\"-11\"/>\n   <g id=\"matplotlib.axis_3\"/>\n   <g id=\"matplotlib.axis_4\">\n    <g id=\"ytick_5\">\n     <g id=\"line2d_9\">\n      <defs>\n       <path d=\"M 0 0 \nL 3.5 0 \n\" id=\"m9b59116bfc\" style=\"stroke:#000000;stroke-width:0.8;\"/>\n      </defs>\n      <g>\n       <use style=\"stroke:#000000;stroke-width:0.8;\" x=\"319.330125\" xlink:href=\"#m9b59116bfc\" y=\"223.182219\"/>\n      </g>\n     </g>\n     <g id=\"text_25\">\n      <!-- 0.0 -->\n      <g transform=\"translate(326.330125 226.981438)scale(0.1 -0.1)\">\n       <use xlink:href=\"#DejaVuSans-48\"/>\n       <use x=\"63.623047\" xlink:href=\"#DejaVuSans-46\"/>\n       <use x=\"95.410156\" xlink:href=\"#DejaVuSans-48\"/>\n      </g>\n     </g>\n    </g>\n    <g id=\"ytick_6\">\n     <g id=\"line2d_10\">\n      <g>\n       <use style=\"stroke:#000000;stroke-width:0.8;\" x=\"319.330125\" xlink:href=\"#m9b59116bfc\" y=\"180.745619\"/>\n      </g>\n     </g>\n     <g id=\"text_26\">\n      <!-- 0.2 -->\n      <g transform=\"translate(326.330125 184.544838)scale(0.1 -0.1)\">\n       <use xlink:href=\"#DejaVuSans-48\"/>\n       <use x=\"63.623047\" xlink:href=\"#DejaVuSans-46\"/>\n       <use x=\"95.410156\" xlink:href=\"#DejaVuSans-50\"/>\n      </g>\n     </g>\n    </g>\n    <g id=\"ytick_7\">\n     <g id=\"line2d_11\">\n      <g>\n       <use style=\"stroke:#000000;stroke-width:0.8;\" x=\"319.330125\" xlink:href=\"#m9b59116bfc\" y=\"138.309019\"/>\n      </g>\n     </g>\n     <g id=\"text_27\">\n      <!-- 0.4 -->\n      <defs>\n       <path d=\"M 37.796875 64.3125 \nL 12.890625 25.390625 \nL 37.796875 25.390625 \nz\nM 35.203125 72.90625 \nL 47.609375 72.90625 \nL 47.609375 25.390625 \nL 58.015625 25.390625 \nL 58.015625 17.1875 \nL 47.609375 17.1875 \nL 47.609375 0 \nL 37.796875 0 \nL 37.796875 17.1875 \nL 4.890625 17.1875 \nL 4.890625 26.703125 \nz\n\" id=\"DejaVuSans-52\"/>\n      </defs>\n      <g transform=\"translate(326.330125 142.108238)scale(0.1 -0.1)\">\n       <use xlink:href=\"#DejaVuSans-48\"/>\n       <use x=\"63.623047\" xlink:href=\"#DejaVuSans-46\"/>\n       <use x=\"95.410156\" xlink:href=\"#DejaVuSans-52\"/>\n      </g>\n     </g>\n    </g>\n    <g id=\"ytick_8\">\n     <g id=\"line2d_12\">\n      <g>\n       <use style=\"stroke:#000000;stroke-width:0.8;\" x=\"319.330125\" xlink:href=\"#m9b59116bfc\" y=\"95.872419\"/>\n      </g>\n     </g>\n     <g id=\"text_28\">\n      <!-- 0.6 -->\n      <defs>\n       <path d=\"M 33.015625 40.375 \nQ 26.375 40.375 22.484375 35.828125 \nQ 18.609375 31.296875 18.609375 23.390625 \nQ 18.609375 15.53125 22.484375 10.953125 \nQ 26.375 6.390625 33.015625 6.390625 \nQ 39.65625 6.390625 43.53125 10.953125 \nQ 47.40625 15.53125 47.40625 23.390625 \nQ 47.40625 31.296875 43.53125 35.828125 \nQ 39.65625 40.375 33.015625 40.375 \nz\nM 52.59375 71.296875 \nL 52.59375 62.3125 \nQ 48.875 64.0625 45.09375 64.984375 \nQ 41.3125 65.921875 37.59375 65.921875 \nQ 27.828125 65.921875 22.671875 59.328125 \nQ 17.53125 52.734375 16.796875 39.40625 \nQ 19.671875 43.65625 24.015625 45.921875 \nQ 28.375 48.1875 33.59375 48.1875 \nQ 44.578125 48.1875 50.953125 41.515625 \nQ 57.328125 34.859375 57.328125 23.390625 \nQ 57.328125 12.15625 50.6875 5.359375 \nQ 44.046875 -1.421875 33.015625 -1.421875 \nQ 20.359375 -1.421875 13.671875 8.265625 \nQ 6.984375 17.96875 6.984375 36.375 \nQ 6.984375 53.65625 15.1875 63.9375 \nQ 23.390625 74.21875 37.203125 74.21875 \nQ 40.921875 74.21875 44.703125 73.484375 \nQ 48.484375 72.75 52.59375 71.296875 \nz\n\" id=\"DejaVuSans-54\"/>\n      </defs>\n      <g transform=\"translate(326.330125 99.671638)scale(0.1 -0.1)\">\n       <use xlink:href=\"#DejaVuSans-48\"/>\n       <use x=\"63.623047\" xlink:href=\"#DejaVuSans-46\"/>\n       <use x=\"95.410156\" xlink:href=\"#DejaVuSans-54\"/>\n      </g>\n     </g>\n    </g>\n    <g id=\"ytick_9\">\n     <g id=\"line2d_13\">\n      <g>\n       <use style=\"stroke:#000000;stroke-width:0.8;\" x=\"319.330125\" xlink:href=\"#m9b59116bfc\" y=\"53.435819\"/>\n      </g>\n     </g>\n     <g id=\"text_29\">\n      <!-- 0.8 -->\n      <g transform=\"translate(326.330125 57.235038)scale(0.1 -0.1)\">\n       <use xlink:href=\"#DejaVuSans-48\"/>\n       <use x=\"63.623047\" xlink:href=\"#DejaVuSans-46\"/>\n       <use x=\"95.410156\" xlink:href=\"#DejaVuSans-56\"/>\n      </g>\n     </g>\n    </g>\n    <g id=\"ytick_10\">\n     <g id=\"line2d_14\">\n      <g>\n       <use style=\"stroke:#000000;stroke-width:0.8;\" x=\"319.330125\" xlink:href=\"#m9b59116bfc\" y=\"10.999219\"/>\n      </g>\n     </g>\n     <g id=\"text_30\">\n      <!-- 1.0 -->\n      <g transform=\"translate(326.330125 14.798437)scale(0.1 -0.1)\">\n       <use xlink:href=\"#DejaVuSans-49\"/>\n       <use x=\"63.623047\" xlink:href=\"#DejaVuSans-46\"/>\n       <use x=\"95.410156\" xlink:href=\"#DejaVuSans-48\"/>\n      </g>\n     </g>\n    </g>\n   </g>\n   <g id=\"patch_4\">\n    <path d=\"M 308.458125 228.439219 \nL 308.458125 227.589844 \nL 308.458125 11.848594 \nL 308.458125 10.999219 \nL 319.330125 10.999219 \nL 319.330125 11.848594 \nL 319.330125 227.589844 \nL 319.330125 228.439219 \nz\n\" style=\"fill:none;\"/>\n   </g>\n  </g>\n </g>\n <defs>\n  <clipPath id=\"pef08c080c9\">\n   <rect height=\"217.44\" width=\"267.84\" x=\"23.878125\" y=\"10.999219\"/>\n  </clipPath>\n  <clipPath id=\"pd505561db7\">\n   <rect height=\"217.44\" width=\"10.872\" x=\"308.458125\" y=\"10.999219\"/>\n  </clipPath>\n </defs>\n</svg>\n",
      "text/plain": "<Figure size 432x288 with 2 Axes>"
     },
     "metadata": {
      "needs_background": "light"
     },
     "output_type": "display_data"
    }
   ],
   "source": [
    "# Heatmap Sample\n",
    "ax = sns.heatmap(correlation, annot=True, cmap=\"YlGnBu\")"
   ]
  },
  {
   "cell_type": "markdown",
   "metadata": {},
   "source": [
    "**Comments on the Heatmap above**\n",
    "\n",
    "\n"
   ]
  },
  {
   "cell_type": "markdown",
   "execution_count": null,
   "metadata": {},
   "outputs": [],
   "source": [
    "<h3>1. Does the choice of city of employment makes an impact on the earning of a particular gender?</h3>\n",
    "<p>There is a weak negative corelation between City and Income which suggests there may or may not be any impact of one on the other but since we have converted this from a dict of fixed values we can't say anything for certain</p>\n",
    "    \n",
    "<h3>1. Does income variable depends on age variable?</h3>\n",
    "<p>There is a really strong postive corelation between age and income which suggests that as they age increases income also increases in almost every case</p>"
   ]
  },
  {
   "cell_type": "code",
   "execution_count": 15,
   "metadata": {},
   "outputs": [
    {
     "data": {
      "text/html": "<div>\n<style scoped>\n    .dataframe tbody tr th:only-of-type {\n        vertical-align: middle;\n    }\n\n    .dataframe tbody tr th {\n        vertical-align: top;\n    }\n\n    .dataframe thead th {\n        text-align: right;\n    }\n</style>\n<table border=\"1\" class=\"dataframe\">\n  <thead>\n    <tr style=\"text-align: right;\">\n      <th></th>\n      <th>Gender</th>\n      <th>Age</th>\n      <th>Income</th>\n      <th>City</th>\n    </tr>\n  </thead>\n  <tbody>\n    <tr>\n      <th>Gender</th>\n      <td>0.255814</td>\n      <td>0.000000</td>\n      <td>2.325581e+01</td>\n      <td>0.046512</td>\n    </tr>\n    <tr>\n      <th>Age</th>\n      <td>0.000000</td>\n      <td>5.412262</td>\n      <td>3.460465e+04</td>\n      <td>-0.046512</td>\n    </tr>\n    <tr>\n      <th>Income</th>\n      <td>23.255814</td>\n      <td>34604.651163</td>\n      <td>2.313256e+08</td>\n      <td>-46.511628</td>\n    </tr>\n    <tr>\n      <th>City</th>\n      <td>0.046512</td>\n      <td>-0.046512</td>\n      <td>-4.651163e+01</td>\n      <td>0.651163</td>\n    </tr>\n  </tbody>\n</table>\n</div>",
      "text/plain": "           Gender           Age        Income       City\nGender   0.255814      0.000000  2.325581e+01   0.046512\nAge      0.000000      5.412262  3.460465e+04  -0.046512\nIncome  23.255814  34604.651163  2.313256e+08 -46.511628\nCity     0.046512     -0.046512 -4.651163e+01   0.651163"
     },
     "execution_count": 15,
     "metadata": {},
     "output_type": "execute_result"
    }
   ],
   "source": [
    "# Caclulate covariance matrix and print it (4x4 matrix)\n",
    "covariance = gender_data.cov()\n",
    "covariance"
   ]
  },
  {
   "cell_type": "markdown",
   "metadata": {},
   "source": [
    "<h4>Comments on the Covariance</h4>\n",
    "\n",
    "<p> There is high variance of income and gender which signifies that male and female income is varied significantly. There is also high variance between city and income. Negative sign doesn't matter in this case because I converted quanitative to numeric labels</p>\n",
    "\n",
    "<p> Covariance matrix signifies the variation of one variable with respect to the other</p>\n",
    "\n",
    "\n",
    "\n"
   ]
  },
  {
   "cell_type": "code",
   "execution_count": null,
   "metadata": {},
   "outputs": [],
   "source": []
  }
 ],
 "metadata": {
  "kernelspec": {
   "display_name": "Python 3",
   "language": "python",
   "name": "python3"
  },
  "language_info": {
   "codemirror_mode": {
    "name": "ipython",
    "version": 3
   },
   "file_extension": ".py",
   "mimetype": "text/x-python",
   "name": "python",
   "nbconvert_exporter": "python",
   "pygments_lexer": "ipython3",
   "version": "3.7.6-final"
  }
 },
 "nbformat": 4,
 "nbformat_minor": 2
}