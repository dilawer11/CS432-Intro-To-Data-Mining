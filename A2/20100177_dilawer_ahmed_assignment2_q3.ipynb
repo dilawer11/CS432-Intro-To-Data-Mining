{
 "cells": [
  {
   "cell_type": "markdown",
   "metadata": {},
   "source": [
    "# Question 3\n",
    "\n",
    "1. In this part, you are required to implement Apriori and FPgrowth algorithms on the data provided as \"data_apriori_fpgrowth/data.csv\". The dataset is of online directory of certified businesses.\n",
    "\n",
    "2. We have loaded the dataset for you.\n",
    "\n",
    "3. You are free to use any library or implement your own algorithms.\n",
    "\n",
    "\n",
    "**Use minimum support : 0.1**"
   ]
  },
  {
   "cell_type": "code",
   "execution_count": 16,
   "metadata": {},
   "outputs": [],
   "source": [
    "import pandas as pd\n",
    "import numpy as np\n",
    "from mlxtend.frequent_patterns import apriori, fpgrowth\n",
    "from mlxtend.preprocessing import TransactionEncoder"
   ]
  },
  {
   "cell_type": "code",
   "execution_count": 21,
   "metadata": {},
   "outputs": [
    {
     "data": {
      "text/plain": [
       "721"
      ]
     },
     "execution_count": 21,
     "metadata": {},
     "output_type": "execute_result"
    }
   ],
   "source": [
    "data = np.load(\"data_apriori_fpgrowth/data.npy\", allow_pickle = True)\n",
    "te = TransactionEncoder()\n",
    "te_ary = te.fit(data).transform(data)\n",
    "df = pd.DataFrame(te_ary, columns=te.columns_)\n",
    "len(te.columns_)"
   ]
  },
  {
   "cell_type": "markdown",
   "metadata": {},
   "source": [
    "# To Do\n",
    "1. Run Apriori Algorithm on the dataset using minimum support 0.1.\n",
    " 1. Note the run time of the algorithm to find frequent item sets.\n",
    " 1. Print all the frequent item sets found by apriori.\n",
    " 1. Print all frequent item sets of length $2$ or higher with support of $0.2$ or higher. \n",
    "1. Run FPGrowth Algorithm on the dataset using minimum support 0.1.\n",
    " 1. Note the run time of the FPGrowth algorithm to find frequent item sets.\n",
    " 1. Print all frequent item sets found by FPGrowth.\n",
    " 1. Print all frequent item sets of length $2$ or higher with support of $0.2$ or higher.\n",
    "1. Answer the following question:\n",
    " 1. Both algorithms find and return exactly the same frequent itemsets (given same parameters of support and itemset length). What difference do you note in both of the algorithms?\n",
    " 1. There were more than $1000$ transactions. Why there are too few itemsets returned by the algorithms?\n",
    " "
   ]
  },
  {
   "cell_type": "markdown",
   "metadata": {},
   "source": [
    "# Apriori [10 marks]"
   ]
  },
  {
   "cell_type": "code",
   "execution_count": 10,
   "metadata": {},
   "outputs": [],
   "source": [
    "# Apriori\n",
    "frequent_items = apriori(df, min_support=0.1, use_colnames=True)"
   ]
  },
  {
   "cell_type": "code",
   "execution_count": 11,
   "metadata": {},
   "outputs": [
    {
     "data": {
      "text/html": [
       "<div>\n",
       "<style scoped>\n",
       "    .dataframe tbody tr th:only-of-type {\n",
       "        vertical-align: middle;\n",
       "    }\n",
       "\n",
       "    .dataframe tbody tr th {\n",
       "        vertical-align: top;\n",
       "    }\n",
       "\n",
       "    .dataframe thead th {\n",
       "        text-align: right;\n",
       "    }\n",
       "</style>\n",
       "<table border=\"1\" class=\"dataframe\">\n",
       "  <thead>\n",
       "    <tr style=\"text-align: right;\">\n",
       "      <th></th>\n",
       "      <th>support</th>\n",
       "      <th>itemsets</th>\n",
       "    </tr>\n",
       "  </thead>\n",
       "  <tbody>\n",
       "    <tr>\n",
       "      <th>0</th>\n",
       "      <td>0.202113</td>\n",
       "      <td>(ASIAN)</td>\n",
       "    </tr>\n",
       "    <tr>\n",
       "      <th>1</th>\n",
       "      <td>0.300704</td>\n",
       "      <td>(BLACK)</td>\n",
       "    </tr>\n",
       "    <tr>\n",
       "      <th>2</th>\n",
       "      <td>0.152113</td>\n",
       "      <td>(Brooklyn)</td>\n",
       "    </tr>\n",
       "    <tr>\n",
       "      <th>3</th>\n",
       "      <td>0.164085</td>\n",
       "      <td>(HISPANIC)</td>\n",
       "    </tr>\n",
       "    <tr>\n",
       "      <th>4</th>\n",
       "      <td>0.671127</td>\n",
       "      <td>(MBE)</td>\n",
       "    </tr>\n",
       "    <tr>\n",
       "      <th>5</th>\n",
       "      <td>0.300000</td>\n",
       "      <td>(NON-MINORITY)</td>\n",
       "    </tr>\n",
       "    <tr>\n",
       "      <th>6</th>\n",
       "      <td>0.295070</td>\n",
       "      <td>(New York)</td>\n",
       "    </tr>\n",
       "    <tr>\n",
       "      <th>7</th>\n",
       "      <td>0.477465</td>\n",
       "      <td>(WBE)</td>\n",
       "    </tr>\n",
       "    <tr>\n",
       "      <th>8</th>\n",
       "      <td>0.200000</td>\n",
       "      <td>(MBE, ASIAN)</td>\n",
       "    </tr>\n",
       "    <tr>\n",
       "      <th>9</th>\n",
       "      <td>0.300704</td>\n",
       "      <td>(BLACK, MBE)</td>\n",
       "    </tr>\n",
       "    <tr>\n",
       "      <th>10</th>\n",
       "      <td>0.112676</td>\n",
       "      <td>(MBE, Brooklyn)</td>\n",
       "    </tr>\n",
       "    <tr>\n",
       "      <th>11</th>\n",
       "      <td>0.164085</td>\n",
       "      <td>(HISPANIC, MBE)</td>\n",
       "    </tr>\n",
       "    <tr>\n",
       "      <th>12</th>\n",
       "      <td>0.170423</td>\n",
       "      <td>(MBE, New York)</td>\n",
       "    </tr>\n",
       "    <tr>\n",
       "      <th>13</th>\n",
       "      <td>0.169014</td>\n",
       "      <td>(MBE, WBE)</td>\n",
       "    </tr>\n",
       "    <tr>\n",
       "      <th>14</th>\n",
       "      <td>0.118310</td>\n",
       "      <td>(NON-MINORITY, New York)</td>\n",
       "    </tr>\n",
       "    <tr>\n",
       "      <th>15</th>\n",
       "      <td>0.300000</td>\n",
       "      <td>(NON-MINORITY, WBE)</td>\n",
       "    </tr>\n",
       "    <tr>\n",
       "      <th>16</th>\n",
       "      <td>0.175352</td>\n",
       "      <td>(WBE, New York)</td>\n",
       "    </tr>\n",
       "    <tr>\n",
       "      <th>17</th>\n",
       "      <td>0.118310</td>\n",
       "      <td>(NON-MINORITY, WBE, New York)</td>\n",
       "    </tr>\n",
       "  </tbody>\n",
       "</table>\n",
       "</div>"
      ],
      "text/plain": [
       "     support                       itemsets\n",
       "0   0.202113                        (ASIAN)\n",
       "1   0.300704                        (BLACK)\n",
       "2   0.152113                     (Brooklyn)\n",
       "3   0.164085                     (HISPANIC)\n",
       "4   0.671127                          (MBE)\n",
       "5   0.300000                 (NON-MINORITY)\n",
       "6   0.295070                     (New York)\n",
       "7   0.477465                          (WBE)\n",
       "8   0.200000                   (MBE, ASIAN)\n",
       "9   0.300704                   (BLACK, MBE)\n",
       "10  0.112676                (MBE, Brooklyn)\n",
       "11  0.164085                (HISPANIC, MBE)\n",
       "12  0.170423                (MBE, New York)\n",
       "13  0.169014                     (MBE, WBE)\n",
       "14  0.118310       (NON-MINORITY, New York)\n",
       "15  0.300000            (NON-MINORITY, WBE)\n",
       "16  0.175352                (WBE, New York)\n",
       "17  0.118310  (NON-MINORITY, WBE, New York)"
      ]
     },
     "execution_count": 11,
     "metadata": {},
     "output_type": "execute_result"
    }
   ],
   "source": [
    "# All Frequent Itemsets\n",
    "frequent_items"
   ]
  },
  {
   "cell_type": "code",
   "execution_count": 14,
   "metadata": {},
   "outputs": [
    {
     "data": {
      "text/html": [
       "<div>\n",
       "<style scoped>\n",
       "    .dataframe tbody tr th:only-of-type {\n",
       "        vertical-align: middle;\n",
       "    }\n",
       "\n",
       "    .dataframe tbody tr th {\n",
       "        vertical-align: top;\n",
       "    }\n",
       "\n",
       "    .dataframe thead th {\n",
       "        text-align: right;\n",
       "    }\n",
       "</style>\n",
       "<table border=\"1\" class=\"dataframe\">\n",
       "  <thead>\n",
       "    <tr style=\"text-align: right;\">\n",
       "      <th></th>\n",
       "      <th>support</th>\n",
       "      <th>itemsets</th>\n",
       "    </tr>\n",
       "  </thead>\n",
       "  <tbody>\n",
       "    <tr>\n",
       "      <th>9</th>\n",
       "      <td>0.300704</td>\n",
       "      <td>(BLACK, MBE)</td>\n",
       "    </tr>\n",
       "    <tr>\n",
       "      <th>15</th>\n",
       "      <td>0.300000</td>\n",
       "      <td>(NON-MINORITY, WBE)</td>\n",
       "    </tr>\n",
       "  </tbody>\n",
       "</table>\n",
       "</div>"
      ],
      "text/plain": [
       "     support             itemsets\n",
       "9   0.300704         (BLACK, MBE)\n",
       "15  0.300000  (NON-MINORITY, WBE)"
      ]
     },
     "execution_count": 14,
     "metadata": {},
     "output_type": "execute_result"
    }
   ],
   "source": [
    "# Frequent itemsets of length 2 with support of 0.2\n",
    "frequent_items[frequent_items.apply(lambda x: x['support'] > 0.2 and len(x['itemsets']) ==2, axis=1)]"
   ]
  },
  {
   "cell_type": "markdown",
   "metadata": {},
   "source": [
    "# FPGrowth [10 marks]"
   ]
  },
  {
   "cell_type": "code",
   "execution_count": 17,
   "metadata": {},
   "outputs": [],
   "source": [
    "# FPGrowth\n",
    "frequent_items = fpgrowth(df, min_support=0.1, use_colnames=True)"
   ]
  },
  {
   "cell_type": "code",
   "execution_count": 18,
   "metadata": {},
   "outputs": [
    {
     "data": {
      "text/html": [
       "<div>\n",
       "<style scoped>\n",
       "    .dataframe tbody tr th:only-of-type {\n",
       "        vertical-align: middle;\n",
       "    }\n",
       "\n",
       "    .dataframe tbody tr th {\n",
       "        vertical-align: top;\n",
       "    }\n",
       "\n",
       "    .dataframe thead th {\n",
       "        text-align: right;\n",
       "    }\n",
       "</style>\n",
       "<table border=\"1\" class=\"dataframe\">\n",
       "  <thead>\n",
       "    <tr style=\"text-align: right;\">\n",
       "      <th></th>\n",
       "      <th>support</th>\n",
       "      <th>itemsets</th>\n",
       "    </tr>\n",
       "  </thead>\n",
       "  <tbody>\n",
       "    <tr>\n",
       "      <th>0</th>\n",
       "      <td>0.671127</td>\n",
       "      <td>(MBE)</td>\n",
       "    </tr>\n",
       "    <tr>\n",
       "      <th>1</th>\n",
       "      <td>0.477465</td>\n",
       "      <td>(WBE)</td>\n",
       "    </tr>\n",
       "    <tr>\n",
       "      <th>2</th>\n",
       "      <td>0.300704</td>\n",
       "      <td>(BLACK)</td>\n",
       "    </tr>\n",
       "    <tr>\n",
       "      <th>3</th>\n",
       "      <td>0.152113</td>\n",
       "      <td>(Brooklyn)</td>\n",
       "    </tr>\n",
       "    <tr>\n",
       "      <th>4</th>\n",
       "      <td>0.202113</td>\n",
       "      <td>(ASIAN)</td>\n",
       "    </tr>\n",
       "    <tr>\n",
       "      <th>5</th>\n",
       "      <td>0.295070</td>\n",
       "      <td>(New York)</td>\n",
       "    </tr>\n",
       "    <tr>\n",
       "      <th>6</th>\n",
       "      <td>0.164085</td>\n",
       "      <td>(HISPANIC)</td>\n",
       "    </tr>\n",
       "    <tr>\n",
       "      <th>7</th>\n",
       "      <td>0.300000</td>\n",
       "      <td>(NON-MINORITY)</td>\n",
       "    </tr>\n",
       "    <tr>\n",
       "      <th>8</th>\n",
       "      <td>0.169014</td>\n",
       "      <td>(MBE, WBE)</td>\n",
       "    </tr>\n",
       "    <tr>\n",
       "      <th>9</th>\n",
       "      <td>0.300704</td>\n",
       "      <td>(BLACK, MBE)</td>\n",
       "    </tr>\n",
       "    <tr>\n",
       "      <th>10</th>\n",
       "      <td>0.112676</td>\n",
       "      <td>(MBE, Brooklyn)</td>\n",
       "    </tr>\n",
       "    <tr>\n",
       "      <th>11</th>\n",
       "      <td>0.200000</td>\n",
       "      <td>(MBE, ASIAN)</td>\n",
       "    </tr>\n",
       "    <tr>\n",
       "      <th>12</th>\n",
       "      <td>0.175352</td>\n",
       "      <td>(WBE, New York)</td>\n",
       "    </tr>\n",
       "    <tr>\n",
       "      <th>13</th>\n",
       "      <td>0.170423</td>\n",
       "      <td>(MBE, New York)</td>\n",
       "    </tr>\n",
       "    <tr>\n",
       "      <th>14</th>\n",
       "      <td>0.118310</td>\n",
       "      <td>(NON-MINORITY, New York)</td>\n",
       "    </tr>\n",
       "    <tr>\n",
       "      <th>15</th>\n",
       "      <td>0.118310</td>\n",
       "      <td>(NON-MINORITY, WBE, New York)</td>\n",
       "    </tr>\n",
       "    <tr>\n",
       "      <th>16</th>\n",
       "      <td>0.164085</td>\n",
       "      <td>(HISPANIC, MBE)</td>\n",
       "    </tr>\n",
       "    <tr>\n",
       "      <th>17</th>\n",
       "      <td>0.300000</td>\n",
       "      <td>(NON-MINORITY, WBE)</td>\n",
       "    </tr>\n",
       "  </tbody>\n",
       "</table>\n",
       "</div>"
      ],
      "text/plain": [
       "     support                       itemsets\n",
       "0   0.671127                          (MBE)\n",
       "1   0.477465                          (WBE)\n",
       "2   0.300704                        (BLACK)\n",
       "3   0.152113                     (Brooklyn)\n",
       "4   0.202113                        (ASIAN)\n",
       "5   0.295070                     (New York)\n",
       "6   0.164085                     (HISPANIC)\n",
       "7   0.300000                 (NON-MINORITY)\n",
       "8   0.169014                     (MBE, WBE)\n",
       "9   0.300704                   (BLACK, MBE)\n",
       "10  0.112676                (MBE, Brooklyn)\n",
       "11  0.200000                   (MBE, ASIAN)\n",
       "12  0.175352                (WBE, New York)\n",
       "13  0.170423                (MBE, New York)\n",
       "14  0.118310       (NON-MINORITY, New York)\n",
       "15  0.118310  (NON-MINORITY, WBE, New York)\n",
       "16  0.164085                (HISPANIC, MBE)\n",
       "17  0.300000            (NON-MINORITY, WBE)"
      ]
     },
     "execution_count": 18,
     "metadata": {},
     "output_type": "execute_result"
    }
   ],
   "source": [
    "# All Frequent Itemsets\n",
    "frequent_items"
   ]
  },
  {
   "cell_type": "code",
   "execution_count": 19,
   "metadata": {},
   "outputs": [
    {
     "data": {
      "text/html": [
       "<div>\n",
       "<style scoped>\n",
       "    .dataframe tbody tr th:only-of-type {\n",
       "        vertical-align: middle;\n",
       "    }\n",
       "\n",
       "    .dataframe tbody tr th {\n",
       "        vertical-align: top;\n",
       "    }\n",
       "\n",
       "    .dataframe thead th {\n",
       "        text-align: right;\n",
       "    }\n",
       "</style>\n",
       "<table border=\"1\" class=\"dataframe\">\n",
       "  <thead>\n",
       "    <tr style=\"text-align: right;\">\n",
       "      <th></th>\n",
       "      <th>support</th>\n",
       "      <th>itemsets</th>\n",
       "    </tr>\n",
       "  </thead>\n",
       "  <tbody>\n",
       "    <tr>\n",
       "      <th>9</th>\n",
       "      <td>0.300704</td>\n",
       "      <td>(BLACK, MBE)</td>\n",
       "    </tr>\n",
       "    <tr>\n",
       "      <th>17</th>\n",
       "      <td>0.300000</td>\n",
       "      <td>(NON-MINORITY, WBE)</td>\n",
       "    </tr>\n",
       "  </tbody>\n",
       "</table>\n",
       "</div>"
      ],
      "text/plain": [
       "     support             itemsets\n",
       "9   0.300704         (BLACK, MBE)\n",
       "17  0.300000  (NON-MINORITY, WBE)"
      ]
     },
     "execution_count": 19,
     "metadata": {},
     "output_type": "execute_result"
    }
   ],
   "source": [
    "# Frequent itemsets of length 2 with support of 0.2\n",
    "frequent_items[frequent_items.apply(lambda x: x['support'] > 0.2 and len(x['itemsets']) ==2, axis=1)]"
   ]
  },
  {
   "cell_type": "markdown",
   "metadata": {},
   "source": [
    "# Answer to the Questions [5 marks]"
   ]
  },
  {
   "cell_type": "markdown",
   "metadata": {},
   "source": [
    "<p> With these inputs there is just a very slight difference in speed of the two algorithms but as number of transactions increases we can expect more and more difference in speed</p>"
   ]
  },
  {
   "cell_type": "markdown",
   "metadata": {},
   "source": [
    "<p>There was a lot of variation in possible items in the transactions. In total there were 721 different items and just above 1000 transactions and average items in transactions were also few so that's why there were only a few itemsets returned which high support</p>"
   ]
  },
  {
   "cell_type": "markdown",
   "metadata": {},
   "source": []
  }
 ],
 "metadata": {
  "kernelspec": {
   "display_name": "Python 3",
   "language": "python",
   "name": "python3"
  },
  "language_info": {
   "codemirror_mode": {
    "name": "ipython",
    "version": 3
   },
   "file_extension": ".py",
   "mimetype": "text/x-python",
   "name": "python",
   "nbconvert_exporter": "python",
   "pygments_lexer": "ipython3",
   "version": "3.7.3"
  }
 },
 "nbformat": 4,
 "nbformat_minor": 2
}
